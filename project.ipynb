{
 "cells": [
  {
   "cell_type": "markdown",
   "metadata": {},
   "source": [
    "## Finite Element Method"
   ]
  },
  {
   "cell_type": "code",
   "execution_count": 1,
   "metadata": {},
   "outputs": [],
   "source": [
    "import numpy as np\n",
    "import pandas as pd\n",
    "import matplotlib.pyplot as plt\n",
    "import matplotlib.tri as tri\n",
    "import seaborn as sns\n",
    "\n",
    "from IPython.display import clear_output\n",
    "from scipy.sparse.linalg import spsolve\n",
    "\n",
    "np.set_printoptions(threshold=100000)\n",
    "sns.set_theme(style=\"whitegrid\", palette=\"pastel\")"
   ]
  },
  {
   "cell_type": "markdown",
   "metadata": {},
   "source": [
    "### 0. Gauss-Legendre Nodes"
   ]
  },
  {
   "cell_type": "code",
   "execution_count": 2,
   "metadata": {},
   "outputs": [],
   "source": [
    "def gauss_legendre_1D(deg):\n",
    "    \"\"\"\n",
    "    Calculate the Gauss-Legendre nodes and weights for the given number of points\n",
    "    [nodes,weights] = \n",
    "    \"\"\"\n",
    "    nodes = []\n",
    "    weights = []\n",
    "\n",
    "    if deg == 1:\n",
    "        nodes.append(0)\n",
    "        weights.append(2)\n",
    "    elif deg == 2:\n",
    "        nodes.append(-0.5773502691896257)\n",
    "        nodes.append(0.5773502691896257)\n",
    "        weights.append(1)\n",
    "        weights.append(1)\n",
    "    elif deg == 3:\n",
    "        nodes.append(-0.7745966692414834)\n",
    "        nodes.append(0)\n",
    "        nodes.append(0.7745966692414834)\n",
    "        weights.append(0.5555555555555556)\n",
    "        weights.append(0.8888888888888888)\n",
    "        weights.append(0.5555555555555556)\n",
    "    elif deg == 4:\n",
    "        nodes.append(-0.8611363115940526)\n",
    "        nodes.append(-0.3399810435848563)\n",
    "        nodes.append(0.3399810435848563)\n",
    "        nodes.append(0.8611363115940526)\n",
    "        weights.append(0.3478548451374539)\n",
    "        weights.append(0.6521451548625461)\n",
    "        weights.append(0.6521451548625461)\n",
    "        weights.append(0.3478548451374539)\n",
    "    elif deg == 5:\n",
    "        nodes.append(-0.906179845938664)\n",
    "        nodes.append(-0.5384693101056831)\n",
    "        nodes.append(0)\n",
    "        nodes.append(0.5384693101056831)\n",
    "        nodes.append(0.906179845938664)\n",
    "        weights.append(0.2369268850561891)\n",
    "        weights.append(0.4786286704993665)\n",
    "        weights.append(0.5688888888888889)\n",
    "        weights.append(0.4786286704993665)\n",
    "        weights.append(0.2369268850561891)\n",
    "    elif deg == 6:\n",
    "        nodes.append(-0.932469514203152)\n",
    "        nodes.append(-0.6612093864662645)\n",
    "        nodes.append(-0.2386191860831969)\n",
    "        nodes.append(0.2386191860831969)\n",
    "        nodes.append(0.6612093864662645)\n",
    "        nodes.append(0.932469514203152)\n",
    "        weights.append(0.1713244923791704)\n",
    "        weights.append(0.3607615730481386)\n",
    "        weights.append(0.467913934572691)\n",
    "        weights.append(0.467913934572691)\n",
    "        weights.append(0.3607615730481386)\n",
    "        weights.append(0.1713244923791704)\n",
    "    elif deg == 7:\n",
    "        nodes.append(-0.9491079123427585)\n",
    "        nodes.append(-0.7415311855993945)\n",
    "        nodes.append(-0.4058451513773972)\n",
    "        nodes.append(0)\n",
    "        nodes.append(0.4058451513773972)\n",
    "        nodes.append(0.7415311855993945)\n",
    "        nodes.append(0.9491079123427585)\n",
    "        weights.append(0.1294849661688697)\n",
    "        weights.append(0.2797053914892767)\n",
    "        weights.append(0.3818300505051189)\n",
    "        weights.append(0.4179591836734694)\n",
    "        weights.append(0.3818300505051189)\n",
    "        weights.append(0.2797053914892767)\n",
    "        weights.append(0.1294849661688697)\n",
    "    return nodes, weights"
   ]
  },
  {
   "cell_type": "code",
   "execution_count": 3,
   "metadata": {},
   "outputs": [],
   "source": [
    "def gauss_legendre_2D(nglx, ngly):\n",
    "    \"\"\"\n",
    "    Calculate the Gauss-Legendre nodes and weights for the given number of points\n",
    "    [nodes,weights] = gauss_legendre_2D(nglx,ngly)\n",
    "    nglx - number of gauss points in x direction\n",
    "    ngly - number of gauss points in y direction\n",
    "    nodes2 - vector of integration points\n",
    "    weights2 - vector of weight coefficients \n",
    "    \"\"\"\n",
    "   \n",
    "    \n",
    "    if nglx > ngly:\n",
    "        ngl = nglx\n",
    "    else:\n",
    "        ngl = ngly\n",
    "        \n",
    "    nodes2   = np.zeros((ngl,2))\n",
    "    weights2 = np.zeros((ngl,2))\n",
    "    \n",
    "    [nodesx, weightsx] = gauss_legendre_1D(nglx)\n",
    "    [nodesy, weightsy] = gauss_legendre_1D(ngly)\n",
    "    \n",
    "    for I in range(nglx):\n",
    "        nodes2[I,0]   = nodesx[I]\n",
    "        weights2[I,0] = weightsx[I]\n",
    "        \n",
    "    for J in range(ngly):\n",
    "        nodes2[J,1]   = nodesy[J]\n",
    "        weights2[J,1] = weightsy[J]\n",
    "        \n",
    "    \n",
    "    return nodes2, weights2"
   ]
  },
  {
   "cell_type": "markdown",
   "metadata": {},
   "source": [
    "### 1. Quadrilateral Elementary Matrix"
   ]
  },
  {
   "cell_type": "markdown",
   "metadata": {},
   "source": [
    "#### Shape functions and derivatives in reference to $\\xi, \\eta$, reference element"
   ]
  },
  {
   "cell_type": "code",
   "execution_count": 4,
   "metadata": {},
   "outputs": [],
   "source": [
    "def feisoq4(xi, eta): # Gauss points in xi, eta\n",
    "    \"\"\"\n",
    "    compute the shape functions and their derivatives, for Q4 elements\n",
    "    at integration point, in terms of natural coords (xi, eta)\n",
    "    \"\"\"\n",
    "    #node 1 (-1, -1)\n",
    "    #node 2 ( 1, -1)\n",
    "    #node 3 ( 1,  1)\n",
    "    #node 4 (-1,  1)\n",
    "    #shape functions\n",
    "    \n",
    "    #initialize\n",
    "    alpha     = np.zeros(4)\n",
    "    dalphdxi  = np.zeros(4)\n",
    "    dalphdeta = np.zeros(4)\n",
    "\n",
    "    nodes = [(-1, -1), (1, -1), (1, 1), (-1, 1)]\n",
    "\n",
    "    for i in range(4):\n",
    "        c_xi, c_eta = nodes[i]  # coefficients before xi and eta (reference element)\n",
    "    \n",
    "        alpha[i] = 0.25 * (1 + c_xi * xi) * (1 + c_eta * eta)\n",
    "\n",
    "    # derivatives, dxi\n",
    "        dalphdxi [i] = 0.25 * c_xi  * (1  + c_eta * eta)\n",
    "    # deta\n",
    "        dalphdeta[i] = 0.25 * c_eta * (1  + c_xi  * xi)\n",
    "\n",
    "    return alpha, dalphdxi, dalphdeta"
   ]
  },
  {
   "cell_type": "markdown",
   "metadata": {},
   "source": [
    "#### Jacobian calculation"
   ]
  },
  {
   "cell_type": "code",
   "execution_count": 5,
   "metadata": {},
   "outputs": [],
   "source": [
    "def fejacob2(nnel, dalphdxi, dalphdeta, xcoord, ycoord):\n",
    "    \"\"\"\n",
    "    Calculation for the jacobian matrix\n",
    "    nnel - number of nodes in the element\n",
    "    dalphdxi -- derivatives of shape function w.r.t xi\n",
    "    dalphdeta -- derivatives of shape function w.r.t eta \n",
    "    xcoord - x coordinate of the nodes\n",
    "    ycoord - y coordinate of the nodes\n",
    "    \"\"\"\n",
    "    #initialize\n",
    "    jacob2 = np.zeros((2, 2))\n",
    "#\n",
    "    for i in range(nnel):\n",
    "        jacob2[0,0] += dalphdxi[i]  * xcoord[i]\n",
    "        jacob2[0,1] += dalphdeta[i] * xcoord[i]\n",
    "        jacob2[1,0] += dalphdxi[i]  * ycoord[i]\n",
    "        jacob2[1,1] += dalphdeta[i] * ycoord[i]\n",
    "    \n",
    "    return jacob2"
   ]
  },
  {
   "cell_type": "markdown",
   "metadata": {},
   "source": [
    "#### Shape functions and derivatives in reference to $x, y$"
   ]
  },
  {
   "cell_type": "code",
   "execution_count": 6,
   "metadata": {},
   "outputs": [],
   "source": [
    "def federiv2(nnel,dalphdxi,dalphdeta,invjacobt):\n",
    "    \"\"\"\n",
    "    Calculation of the derivatives of the shape functions, with respect to x and y\n",
    "    nnel - number of nodes in the element\n",
    "    dalphdxi -- derivatives of shape function w.r.t xi\n",
    "    dalphdeta -- derivatives of shape function w.r.t eta \n",
    "    invjacobt -- inverse of the transposed of the jacobian matrix\n",
    "    \"\"\"\n",
    "\n",
    "    dxi_dx  = invjacobt[0, 0]\n",
    "    deta_dx = invjacobt[0, 1]\n",
    "    dxi_dy  = invjacobt[1, 0]\n",
    "    deta_dy = invjacobt[1, 1]\n",
    "    \n",
    "    #initialize\n",
    "    dalphdx = np.zeros(nnel)\n",
    "    dalphdy = np.zeros(nnel)\n",
    "    for i in range(nnel):\n",
    "        dalphdx[i] = dalphdxi[i] * dxi_dx + dalphdeta[i] * deta_dx\n",
    "        dalphdy[i] = dalphdxi[i] * dxi_dy + dalphdeta[i] * deta_dy\n",
    "\n",
    "    return dalphdx, dalphdy"
   ]
  },
  {
   "cell_type": "markdown",
   "metadata": {},
   "source": [
    "#### Calculation of a Quadrilateral elementary matrix (2D)"
   ]
  },
  {
   "cell_type": "code",
   "execution_count": 7,
   "metadata": {},
   "outputs": [],
   "source": [
    "def elem_2D(xcoord, ycoord) -> np.ndarray:\n",
    "    \"\"\"\n",
    "    Calculation for the elementary matrix of a quadrilateral element\n",
    "    Variables description:\n",
    "    k - element matrix\n",
    "    point2 - integration points\n",
    "    weight2 - weighting coeffs\n",
    "    nglx - number of integration points along x\n",
    "    ngly - number of integration points along y\n",
    "    xcoord - x coordinate of the nodes\n",
    "    ycoord - y coordinate of the nodes\n",
    "    jocob2 - Jacobian matrix\n",
    "    alpha - four-node quadrilateral shape functions\n",
    "    dalphdxi -- derivatives of shape function w.r.t xi\n",
    "    dalphdeta -- derivatives of shape function w.r.t eta\n",
    "    dalphdx -- derivatives of shape function w.r.t x\n",
    "    dalphdy -- derivatives of shape function w.r.t y\n",
    "    \"\"\"\n",
    "    nnel = 4           # number of nodes per element\n",
    "    ndof = 1           # degrees of freedom per node\n",
    "    edof = nnel * ndof # degrees of freedom per element\n",
    "\n",
    "    k = np.zeros((edof, edof))\n",
    "\n",
    "    ref_xi  = [-1/np.sqrt(3),  1/np.sqrt(3), 1/np.sqrt(3), -1/np.sqrt(3)]\n",
    "    ref_eta = [-1/np.sqrt(3), -1/np.sqrt(3), 1/np.sqrt(3),  1/np.sqrt(3)]\n",
    "\n",
    "    #sampling over all the integration points\n",
    "    for i in range(4):\n",
    "    #\n",
    "        al, daldxi, daldeta = feisoq4(ref_xi[i], ref_eta[i])\n",
    "    #\n",
    "        jacob2    = fejacob2(edof, daldxi, daldeta, xcoord, ycoord)\n",
    "        detjacob  = np.linalg.det(jacob2)\n",
    "        invjacob  = np.linalg.inv(jacob2)\n",
    "        invjacobt = np.transpose(invjacob)\n",
    "\n",
    "        daldx, daldy = federiv2(edof, daldxi, daldeta, invjacobt)\n",
    "\n",
    "        #calculation of the matrix\n",
    "        for i in range(edof):\n",
    "            for j in range(edof):\n",
    "                k[i, j] = (daldx[i] * daldx[j] + daldy[i] * daldy[j]) * detjacob\n",
    "                # =, not +=\n",
    "\n",
    "    return al, detjacob, k"
   ]
  },
  {
   "cell_type": "markdown",
   "metadata": {},
   "source": [
    "### 2. Linear Elementary Matrix"
   ]
  },
  {
   "cell_type": "markdown",
   "metadata": {},
   "source": [
    "#### 2.1. Shape functions and derivatives in reference to $\\xi$, reference element"
   ]
  },
  {
   "cell_type": "code",
   "execution_count": 8,
   "metadata": {},
   "outputs": [],
   "source": [
    "def feisoq2(xi): # Gauss points in xi, eta\n",
    "    \"\"\"\n",
    "    compute the shape functions and their derivatives, for Q4 elements\n",
    "    at integration point, in terms of natural coords (xi)\n",
    "    \"\"\"\n",
    "    #node 1 (-1)\n",
    "    #node 2 ( 1)\n",
    "    #shape functions\n",
    "    \n",
    "    #initialize\n",
    "    alpha     = np.zeros(2)\n",
    "    dalphdxi  = np.zeros(2)\n",
    "\n",
    "    nodes = [-1, 1]\n",
    "\n",
    "    for i in range(2):\n",
    "        c_xi = nodes[i]  # coefficients before xi and eta (reference element)\n",
    "    \n",
    "        alpha[i] = 0.5 * (1 + c_xi * xi)\n",
    "\n",
    "    # derivatives, dxi\n",
    "        dalphdxi[i] = 0.5 * c_xi\n",
    "\n",
    "\n",
    "    return alpha, dalphdxi"
   ]
  },
  {
   "cell_type": "markdown",
   "metadata": {},
   "source": [
    "#### 2.2. Jacobian calculation"
   ]
  },
  {
   "cell_type": "code",
   "execution_count": 9,
   "metadata": {},
   "outputs": [],
   "source": [
    "def fe_detjacob(nnel, dalphdxi, xcoord, ycoord):\n",
    "    \"\"\"\n",
    "    Calculation for the jacobian matrix\n",
    "    nnel - number of nodes in the element\n",
    "    dalphdxi -- derivatives of shape function w.r.t xi\n",
    "    xcoord, ycoord - coordinates of the nodes\n",
    "    \"\"\"\n",
    "    #initialize\n",
    "    jacob = 0\n",
    "\n",
    "    dxdxi = 0\n",
    "    dydxi = 0\n",
    "\n",
    "    for i in range(nnel):\n",
    "        dxdxi += dalphdxi[i] * xcoord[i]\n",
    "        dydxi += dalphdxi[i] * ycoord[i]\n",
    "        \n",
    "    jacob = np.sqrt(dxdxi * dxdxi + dydxi * dydxi)\n",
    "    \n",
    "    return jacob\n"
   ]
  },
  {
   "cell_type": "markdown",
   "metadata": {},
   "source": [
    "#### 2.3. Calculation of a Linear elementary matrix (1D)"
   ]
  },
  {
   "cell_type": "code",
   "execution_count": 10,
   "metadata": {},
   "outputs": [],
   "source": [
    "def elem_1D(xcoord, ycoord) -> np.ndarray:\n",
    "    \"\"\"\n",
    "    Calculation for the elementary matrix of a linear element\n",
    "    Variables description:\n",
    "    k - element matrix\n",
    "    point2 - integration points\n",
    "    weight2 - weighting coeffs\n",
    "    nglx - number of integration points along x\n",
    "    ngly - number of integration points along y\n",
    "    xcoord - x coordinate of the nodes\n",
    "    ycoord - y coordinate of the nodes\n",
    "    jocob2 - Jacobian matrix\n",
    "    alpha - four-node quadrilateral shape functions\n",
    "    dalphdxi -- derivatives of shape function w.r.t xi\n",
    "    dalphdeta -- derivatives of shape function w.r.t eta\n",
    "    dalphdx -- derivatives of shape function w.r.t x\n",
    "    dalphdy -- derivatives of shape function w.r.t y\n",
    "    \"\"\"\n",
    "    nnel = 2           # number of nodes per element\n",
    "    ndof = 1           # degrees of freedom per node\n",
    "    edof = nnel * ndof # degrees of freedom per element\n",
    "\n",
    "    nglx = 2       # 2 points in each direction for Gauss integration\n",
    "\n",
    "    [points, weights] = gauss_legendre_1D(nglx)\n",
    "\n",
    "    k = np.zeros((edof, edof))\n",
    "\n",
    "    #sampling over all the integration points\n",
    "    for intx in range(nglx):\n",
    "        x_c = points[intx]\n",
    "\n",
    "        al, daldxi = feisoq2(x_c)\n",
    "        \n",
    "        detjacob = fe_detjacob(edof, daldxi, xcoord, ycoord)\n",
    "\n",
    "        #calculation of the matrix\n",
    "        for i in range(edof):\n",
    "            for j in range(edof):\n",
    "                k[i,j] = (al[i] * al[j]) * detjacob\n",
    "\n",
    "    return al, detjacob, k"
   ]
  },
  {
   "cell_type": "markdown",
   "metadata": {},
   "source": [
    "### 3. Main Program Body"
   ]
  },
  {
   "cell_type": "markdown",
   "metadata": {},
   "source": [
    "#### 3.1. Constants"
   ]
  },
  {
   "cell_type": "code",
   "execution_count": 11,
   "metadata": {},
   "outputs": [],
   "source": [
    "r_length = 0.12\n",
    "z_length = 0.4\n",
    "dr = 0.02\n",
    "dz = 0.02\n",
    "\n",
    "assert(r_length / dr == int(r_length / dr)) ## checking for whole values, so that we don't have crucible and material in one element\n",
    "assert(z_length / dz == int(z_length / dz))\n",
    "assert(dz <= 0.02)\n",
    "assert(dr <= 0.02)"
   ]
  },
  {
   "cell_type": "code",
   "execution_count": 12,
   "metadata": {},
   "outputs": [],
   "source": [
    "h     = 20000\n",
    "Tr    = 300\n",
    "sigma = 5.67e-8\n",
    "Q     = 400000          # SELECT Q HERE\n",
    "\n",
    "radiative = True        # WHETHER RADIATIVE EXCHANGE IS MODELED OR NOT\n",
    "\n",
    "class Material:\n",
    "    def __init__(self, name, Tmelt, k, emissivity = None):\n",
    "        self.name = name\n",
    "        self.Tmelt  = Tmelt\n",
    "        self.k      = k                           # thermal conductivity\n",
    "        self.emiss  = emissivity"
   ]
  },
  {
   "cell_type": "code",
   "execution_count": 13,
   "metadata": {},
   "outputs": [],
   "source": [
    "iron      = Material(     \"iron\",  1811,  80.2,   0.35)\n",
    "titanium  = Material( \"titanium\",  1941,    15,   0.47)\n",
    "aluminium = Material(\"aluminium\", 933.3,   238,    0.1)\n",
    "\n",
    "crucible  = Material(\"crucible\", 2323,    40)\n",
    "air       = Material(     \"air\",  132, 0.024)"
   ]
  },
  {
   "cell_type": "code",
   "execution_count": 14,
   "metadata": {},
   "outputs": [],
   "source": [
    "selected = iron      # selection for material analysis"
   ]
  },
  {
   "cell_type": "markdown",
   "metadata": {},
   "source": [
    "#### 3.2. Mesh definition"
   ]
  },
  {
   "cell_type": "code",
   "execution_count": 15,
   "metadata": {},
   "outputs": [],
   "source": [
    "r_blocks = int(r_length / dr)\n",
    "z_blocks = int(z_length / dz)\n",
    "num_blocks = r_blocks * z_blocks\n",
    "\n",
    "m_size = (r_blocks + 1) * (z_blocks + 1)\n",
    "\n",
    "M = np.zeros((m_size, m_size))\n",
    "K = np.zeros(m_size)"
   ]
  },
  {
   "cell_type": "markdown",
   "metadata": {},
   "source": [
    "#### 3.3. Filling M, K for internal (quadrilateral) conductivity"
   ]
  },
  {
   "cell_type": "code",
   "execution_count": 16,
   "metadata": {},
   "outputs": [],
   "source": [
    "for block in range(num_blocks):\n",
    "\n",
    "    z_step = block // r_blocks\n",
    "    r_step = block %  r_blocks\n",
    "\n",
    "    # coordinates of bottom left point in a given mesh quadrilateral\n",
    "    r, z = r_step * dr, z_step * dz\n",
    "\n",
    "    rcoord   = np.round(np.array([r, r + dr, r + dr,      r]), decimals=2)\n",
    "    zcoord   = np.round(np.array([z,      z, z + dz, z + dz]), decimals=2)\n",
    "\n",
    "    node_num = np.array([r_step     + z_step       * (r_blocks + 1),\n",
    "                         r_step + 1 + z_step       * (r_blocks + 1),\n",
    "                         r_step + 1 + (z_step + 1) * (r_blocks + 1),\n",
    "                         r_step     + (z_step + 1) * (r_blocks + 1)])\n",
    "    \n",
    "    \n",
    "    if ((zcoord <= 0.02).all() or (rcoord >= 0.1).all()):\n",
    "        k = crucible.k\n",
    "        Q_in = 0\n",
    "    elif (zcoord <= 0.32).all():\n",
    "        k = selected.k \n",
    "        Q_in = Q\n",
    "        ## material\n",
    "    else: \n",
    "        k = air.k\n",
    "        Q_in = 0\n",
    "        # air\n",
    "\n",
    "\n",
    "    alpha, detjacob, elem_m = elem_2D(rcoord, zcoord)\n",
    "\n",
    "    for i in range(4):\n",
    "        ii = node_num[i]\n",
    "\n",
    "        for j in range(4):\n",
    "            jj = node_num[j]\n",
    "            M[ii][jj] += k * elem_m[i][j] \n",
    "\n",
    "        K[ii] += alpha[i] * Q_in * detjacob"
   ]
  },
  {
   "cell_type": "markdown",
   "metadata": {},
   "source": [
    "#### 3.4. Filling M, K for convective exchanges on boundaries"
   ]
  },
  {
   "cell_type": "markdown",
   "metadata": {},
   "source": [
    "Go around the outer edge of the crucible (gamma 1 cr -> gamma 4 cr), then across the surface of the material to the center (gamma 3 mat)"
   ]
  },
  {
   "cell_type": "code",
   "execution_count": 17,
   "metadata": {},
   "outputs": [],
   "source": [
    "## gamma cr 1\n",
    "\n",
    "coords = np.array([0., 0.])\n",
    "\n",
    "\n",
    "while (coords[0] < 0.12):\n",
    "    r1, r2 = coords[0], coords[0] + dr\n",
    "    z = coords[1]\n",
    "\n",
    "    alpha, detjacob, elem_m = elem_1D([r1, r2], [z, z])\n",
    "\n",
    "    node_num = int(coords[0] / dr + coords[1] / dz * (r_blocks + 1))\n",
    "\n",
    "    for i in range(2):\n",
    "        ii = node_num + i\n",
    "\n",
    "        for j in range(2):\n",
    "            jj = node_num + j\n",
    "\n",
    "            M[ii][jj] += h * elem_m[i][j]\n",
    "\n",
    "        K[ii] += h * Tr * alpha[i] * detjacob\n",
    "\n",
    "    coords[0] += dr\n",
    "    coords = np.round(coords, decimals=2)\n",
    "\n",
    "\n",
    "## gamma cr 2\n",
    "\n",
    "while (coords[1] < 0.4):\n",
    "    z1, z2 = coords[1], coords[1] + dz\n",
    "    r = coords[0]\n",
    "\n",
    "    alpha, detjacob, elem_m = elem_1D([r, r], [z1, z2])\n",
    "\n",
    "\n",
    "    node_num = int(coords[0] / dr + coords[1] / dz * (r_blocks + 1))\n",
    "\n",
    "    for i in range(2):\n",
    "        ii = node_num + (r_blocks + 1) * i\n",
    "\n",
    "        for j in range(2):\n",
    "            jj = node_num + (r_blocks + 1) * j\n",
    "\n",
    "            M[ii][jj] += h * elem_m[i][j]\n",
    "\n",
    "        K[ii] += h * Tr * alpha[i] * detjacob\n",
    "        \n",
    "    coords[1] += dz\n",
    "    coords = np.round(coords, decimals=2)\n",
    "\n",
    "## gamma cr 3\n",
    "\n",
    "while (coords[0] > 0.1):\n",
    "\n",
    "    coords[0] -= dr\n",
    "    coords = np.round(coords, decimals=2)\n",
    "\n",
    "    r1, r2 = coords[0], coords[0] + dr\n",
    "    z = coords[1]\n",
    "\n",
    "    alpha, detjacob, elem_m = elem_1D([r1, r2], [z, z])\n",
    "\n",
    "\n",
    "    node_num = int(coords[0] / dr + coords[1] / dz * (r_blocks + 1))\n",
    "\n",
    "    for i in range(2):\n",
    "        ii = node_num + i\n",
    "\n",
    "        for j in range(2):\n",
    "            jj = node_num + j\n",
    "\n",
    "            M[ii][jj] += h * elem_m[i][j]\n",
    "\n",
    "        K[ii] += h * Tr * alpha[i] * detjacob\n",
    "    \n",
    "\n",
    "#gamma cr 4 \n",
    "\n",
    "while (coords[1] > 0.32):\n",
    "\n",
    "    coords[1] -= dz\n",
    "    coords = np.round(coords, decimals=2)\n",
    "\n",
    "    z1, z2 = coords[1], coords[1] + dz\n",
    "    r = coords[0]\n",
    "\n",
    "    alpha, detjacob, elem_m = elem_1D([r, r], [z1, z2])\n",
    "\n",
    "\n",
    "    node_num = int(coords[0] / dr + coords[1] / dz * (r_blocks + 1))\n",
    "\n",
    "    for i in range(2):\n",
    "        ii = node_num + (r_blocks + 1) * i\n",
    "\n",
    "        for j in range(2):\n",
    "            jj = node_num + (r_blocks + 1) * j\n",
    "\n",
    "            M[ii][jj] += h * elem_m[i][j]\n",
    "\n",
    "        K[ii] += h * Tr * alpha[i] * detjacob\n",
    "\n",
    "# gamma mat 30\n",
    "\n",
    "while (coords[0] > 0):\n",
    "\n",
    "    coords[0] -= dr\n",
    "    coords = np.round(coords, decimals=2)\n",
    "    \n",
    "    r1, r2 = coords[0], coords[0] + dr\n",
    "    z = coords[1]\n",
    "\n",
    "    alpha, detjacob, elem_m = elem_1D([r1, r2], [z, z])\n",
    "\n",
    "    node_num = int(coords[0] / dr + coords[1] / dz * (r_blocks + 1))\n",
    "\n",
    "    for i in range(2):\n",
    "        ii = node_num + i\n",
    "\n",
    "        for j in range(2):\n",
    "            jj = node_num + j\n",
    "            \n",
    "            M[ii][jj] += h * elem_m[i][j]\n",
    "\n",
    "        K[ii] += h * Tr * alpha[i] * detjacob"
   ]
  },
  {
   "cell_type": "code",
   "execution_count": 18,
   "metadata": {},
   "outputs": [
    {
     "name": "stderr",
     "output_type": "stream",
     "text": [
      "C:\\Users\\user\\AppData\\Local\\Temp\\ipykernel_17296\\380662226.py:1: SparseEfficiencyWarning: spsolve requires A be CSC or CSR matrix format\n",
      "  T = spsolve(M, K)\n"
     ]
    }
   ],
   "source": [
    "T = spsolve(M, K)"
   ]
  },
  {
   "cell_type": "markdown",
   "metadata": {},
   "source": [
    "#### 3.5 Filling M for radiative exchange on material surface"
   ]
  },
  {
   "cell_type": "code",
   "execution_count": 19,
   "metadata": {},
   "outputs": [
    {
     "name": "stderr",
     "output_type": "stream",
     "text": [
      "C:\\Users\\user\\AppData\\Local\\Temp\\ipykernel_17296\\3189733816.py:29: SparseEfficiencyWarning: spsolve requires A be CSC or CSR matrix format\n",
      "  T = spsolve(M, K)\n"
     ]
    }
   ],
   "source": [
    "if radiative:\n",
    "    constant = selected.emiss * sigma\n",
    "\n",
    "    coords = np.round(np.array([0., 0.32]), decimals=2)\n",
    "\n",
    "    while (coords[0] < 0.1):\n",
    "        r1, r2 = coords[0], coords[0] + dr\n",
    "        z = coords[1]\n",
    "\n",
    "        al, detjacob, elem_m = elem_1D([r1, r2], [z, z])\n",
    "\n",
    "        node_num = int(coords[0] / dr + coords[1] / dz * (r_blocks + 1))\n",
    "\n",
    "        for i in range(2):\n",
    "            ii = node_num + i\n",
    "            for j in range(2):\n",
    "                jj = node_num + j\n",
    "\n",
    "                T_avg = (T[ii] + T[jj]) / 2\n",
    "\n",
    "                M[ii][jj] += constant * (T_avg ** 3) * elem_m[i][j]\n",
    "            \n",
    "            K[ii] += constant * (Tr ** 3) * alpha[i] * detjacob\n",
    "\n",
    "\n",
    "        coords[0] += dr\n",
    "        coords = np.round(coords, decimals=2)\n",
    "\n",
    "    T = spsolve(M, K)"
   ]
  },
  {
   "cell_type": "markdown",
   "metadata": {},
   "source": [
    "### 4. Visualising the system"
   ]
  },
  {
   "cell_type": "code",
   "execution_count": 20,
   "metadata": {},
   "outputs": [
    {
     "data": {
      "text/plain": [
       "333.43976187311796"
      ]
     },
     "execution_count": 20,
     "metadata": {},
     "output_type": "execute_result"
    }
   ],
   "source": [
    "T.max() ## MAX TEMPERATURE OBSERVED"
   ]
  },
  {
   "cell_type": "code",
   "execution_count": 21,
   "metadata": {},
   "outputs": [
    {
     "data": {
      "text/plain": [
       "array([314.11353954, 297.18813539, 301.51963629, 300.2605865 ,\n",
       "       300.4477105 , 300.19979889, 300.00522337, 316.18870547,\n",
       "       314.78215139, 312.23129045, 310.77185388, 308.40487937,\n",
       "       304.51943802, 300.21589599, 320.96083136, 320.00624176,\n",
       "       318.19863885, 315.69581214, 312.44875409, 308.40699671,\n",
       "       300.38072523, 325.09655888, 324.24318705, 322.36353319,\n",
       "       319.5100035 , 315.65250638, 310.64350531, 300.50544754,\n",
       "       328.37803396, 327.48692822, 325.46969282, 322.31272376,\n",
       "       317.95332935, 312.26388881, 300.57915664, 330.80084627,\n",
       "       329.85669156, 327.70184462, 324.29759324, 319.56824957,\n",
       "       313.39312682, 300.63488898, 332.42160297, 331.4342972 ,\n",
       "       329.17524901, 325.59654371, 320.61807567, 314.12567778,\n",
       "       300.66985035, 333.29133869, 332.27948372, 329.96228334,\n",
       "       326.28821733, 321.1757995 , 314.51436002, 300.6886621 ,\n",
       "       333.43976187, 332.42531623, 330.10098301, 326.41313913,\n",
       "       321.27862784, 314.58671711, 300.6921394 , 332.86949585,\n",
       "       331.8759832 , 329.59816275, 325.98024099, 320.93576085,\n",
       "       314.34975037, 300.68076486, 331.55359534, 330.6054936 ,\n",
       "       328.43001953, 324.9690889 , 320.13110849, 313.79237654,\n",
       "       300.65401873, 329.43437226, 328.55641806, 326.54086438,\n",
       "       323.32886699, 318.82264986, 312.88509599, 300.61029819,\n",
       "       326.42381246, 325.63854356, 323.83960593, 320.97384103,\n",
       "       316.93872039, 311.57706313, 300.54783852, 322.40881456,\n",
       "       321.72831356, 320.19110989, 317.77385257, 314.37002085,\n",
       "       309.79333531, 300.46045778, 317.27839035, 316.66303704,\n",
       "       315.39815727, 313.52849073, 310.96583703, 307.4239892 ,\n",
       "       300.35238903, 311.00676696, 310.28247734, 309.025229  ,\n",
       "       308.00771062, 306.51097124, 304.3332883 , 300.18162548,\n",
       "       305.40179271, 300.44387663, 301.05753138, 300.8355136 ,\n",
       "       300.75491728, 300.25298579, 300.06564264, 302.32013868,\n",
       "       301.79863769, 301.01640454, 300.78430315, 300.45816605,\n",
       "       299.95173911, 299.98849116, 301.64896114, 301.4251296 ,\n",
       "       301.07526684, 300.71097746, 300.36564802, 300.00924396,\n",
       "       300.00192655, 301.34602274, 301.22009212, 300.97551304,\n",
       "       300.67107711, 300.34144098, 299.99823631, 299.99971917,\n",
       "       301.23397372, 301.13208673, 300.92378319, 300.64569128,\n",
       "       300.33029603, 300.00035765, 299.99997468])"
      ]
     },
     "execution_count": 21,
     "metadata": {},
     "output_type": "execute_result"
    }
   ],
   "source": [
    "T ## analyze temperature by calling different numpy methods on T"
   ]
  },
  {
   "cell_type": "code",
   "execution_count": 22,
   "metadata": {},
   "outputs": [
    {
     "data": {
      "image/png": "[encoded data removed]",
      "text/plain": [
       "<Figure size 640x480 with 2 Axes>"
      ]
     },
     "metadata": {},
     "output_type": "display_data"
    }
   ],
   "source": [
    "# converts quad elements into tri elements\n",
    "def quads_to_tris(quads):\n",
    "    tris = [[None for j in range(3)] for i in range(2*len(quads))]\n",
    "    for i in range(len(quads)):\n",
    "        j = 2*i\n",
    "        n0 = quads[i][0]\n",
    "        n1 = quads[i][1]\n",
    "        n2 = quads[i][2]\n",
    "        n3 = quads[i][3]\n",
    "        tris[j][0] = n0\n",
    "        tris[j][1] = n1\n",
    "        tris[j][2] = n2\n",
    "        tris[j + 1][0] = n2\n",
    "        tris[j + 1][1] = n3\n",
    "        tris[j + 1][2] = n0\n",
    "    return tris\n",
    "\n",
    "# plots a finite element mesh\n",
    "def plot_fem_mesh(nodes_x, nodes_y, elements):\n",
    "    for element in elements:\n",
    "        x = [nodes_x[element[i]] for i in range(len(element))]\n",
    "        y = [nodes_y[element[i]] for i in range(len(element))]\n",
    "        plt.fill(x, y, edgecolor='black', fill=False)\n",
    "\n",
    "# FEM data=====================\n",
    "#nodes_x = [0.0, 1.0, 2.0, 0.0, 1.0, 2.0, 3.0, 0.0, 1.0, 2.0, 3.0]\n",
    "#nodes_y = [0.0, 0.0, 0.0, 1.0, 1.0, 1.0, 1.0, 2.0, 2.0, 2.0, 2.0]\n",
    "\n",
    "nodex   = np.linspace(0, r_blocks, r_blocks + 1)\n",
    "nodes_x = np.tile(nodex, z_blocks + 1)\n",
    "\n",
    "nodey   = np.linspace(0, z_blocks, z_blocks + 1).reshape(-1, 1)\n",
    "nodes_y = np.tile(nodey, r_blocks + 1).ravel()\n",
    "\n",
    "nodal_values = T\n",
    "\n",
    "#nodal values of the field we want to plot\n",
    "#nodal_values = [1.0, 0.9, 1.1, 0.9, 2.1, 2.1, 0.9, 1.0, 1.0, 0.9, 0.8]\n",
    "#table of connectivity of elements\n",
    "#triangular elements\n",
    "# elements_tris = [[2, 6, 5], [5, 6, 10], [10, 9, 5]]\n",
    "#square elements\n",
    "\n",
    "elements_quads = np.array([[r_step + z_step * (r_blocks + 1),\n",
    "                            r_step + 1 + z_step * (r_blocks + 1),\n",
    "                            r_step + 1 + (z_step + 1) * (r_blocks + 1),\n",
    "                            r_step + (z_step + 1) * (r_blocks + 1)] \n",
    "                \n",
    "                            for z_step in range(0, z_blocks) \n",
    "                            for r_step in range(0, r_blocks)])\n",
    "\n",
    "\n",
    "# elements_quads = [[0, 1, 4, 3], [1, 2, 5, 4], [3, 4, 8, 7], [4, 5, 9, 8]]\n",
    "#========================================================================\n",
    "\n",
    "elements = elements_quads\n",
    "\n",
    "\n",
    "# convert all elements into triangles\n",
    "#elements_all_tris = elements_tris + quads_to_tris(elements_quads)\n",
    "\n",
    "elements_all_tris = quads_to_tris(elements_quads)\n",
    "\n",
    "# create an unstructured triangular grid instance\n",
    "triangulation = tri.Triangulation(nodes_x, nodes_y, elements_all_tris)\n",
    "\n",
    "\n",
    "# plot the finite element mesh\n",
    "plot_fem_mesh(nodes_x, nodes_y, elements)\n",
    "\n",
    "# plot the contours\n",
    "plt.tricontourf(triangulation, nodal_values)\n",
    "\n",
    "# show\n",
    "plt.colorbar()\n",
    "plt.axis('equal')\n",
    "\n",
    "locs, labels = plt.xticks()\n",
    "plt.xticks(locs, np.linspace(0, 12, 7, dtype=int))\n",
    "\n",
    "locs, labels = plt.yticks()\n",
    "plt.yticks(locs, np.linspace(0, 40, 9, dtype=int))\n",
    "\n",
    "plt.xlabel(\"r, cm\")\n",
    "plt.ylabel(\"z, cm\")\n",
    "\n",
    "if radiative: rad_str = \"with\" \n",
    "else: rad_str =  \"without\"\n",
    "\n",
    "plt.title(f\"Static heat transfer modeled for {selected.name} {rad_str} radiative exchange\")\n",
    "\n",
    "plt.show()"
   ]
  },
  {
   "cell_type": "code",
   "execution_count": null,
   "metadata": {},
   "outputs": [],
   "source": []
  }
 ],
 "metadata": {
  "kernelspec": {
   "display_name": "stats",
   "language": "python",
   "name": "python3"
  },
  "language_info": {
   "codemirror_mode": {
    "name": "ipython",
    "version": 3
   },
   "file_extension": ".py",
   "mimetype": "text/x-python",
   "name": "python",
   "nbconvert_exporter": "python",
   "pygments_lexer": "ipython3",
   "version": "3.9.19"
  }
 },
 "nbformat": 4,
 "nbformat_minor": 2
}
