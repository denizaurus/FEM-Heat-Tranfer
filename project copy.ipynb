{
 "cells": [
  {
   "cell_type": "markdown",
   "metadata": {},
   "source": [
    "## Finite Element Method"
   ]
  },
  {
   "cell_type": "code",
   "execution_count": 1,
   "metadata": {},
   "outputs": [],
   "source": [
    "import numpy as np\n",
    "import pandas as pd\n",
    "import matplotlib.pyplot as plt\n",
    "\n",
    "from IPython.display import clear_output\n",
    "from scipy.sparse.linalg import spsolve"
   ]
  },
  {
   "cell_type": "markdown",
   "metadata": {},
   "source": [
    "### 1. Gauss-Legendre Nodes"
   ]
  },
  {
   "cell_type": "code",
   "execution_count": 2,
   "metadata": {},
   "outputs": [],
   "source": [
    "def gauss_legendre_1D(deg):\n",
    "    \"\"\"\n",
    "    Calculate the Gauss-Legendre nodes and weights for the given number of points\n",
    "    [nodes,weights] = \n",
    "    \"\"\"\n",
    "    nodes = []\n",
    "    weights = []\n",
    "\n",
    "    if deg == 1:\n",
    "        nodes.append(0)\n",
    "        weights.append(2)\n",
    "    elif deg == 2:\n",
    "        nodes.append(-0.5773502691896257)\n",
    "        nodes.append(0.5773502691896257)\n",
    "        weights.append(1)\n",
    "        weights.append(1)\n",
    "    elif deg == 3:\n",
    "        nodes.append(-0.7745966692414834)\n",
    "        nodes.append(0)\n",
    "        nodes.append(0.7745966692414834)\n",
    "        weights.append(0.5555555555555556)\n",
    "        weights.append(0.8888888888888888)\n",
    "        weights.append(0.5555555555555556)\n",
    "    elif deg == 4:\n",
    "        nodes.append(-0.8611363115940526)\n",
    "        nodes.append(-0.3399810435848563)\n",
    "        nodes.append(0.3399810435848563)\n",
    "        nodes.append(0.8611363115940526)\n",
    "        weights.append(0.3478548451374539)\n",
    "        weights.append(0.6521451548625461)\n",
    "        weights.append(0.6521451548625461)\n",
    "        weights.append(0.3478548451374539)\n",
    "    elif deg == 5:\n",
    "        nodes.append(-0.906179845938664)\n",
    "        nodes.append(-0.5384693101056831)\n",
    "        nodes.append(0)\n",
    "        nodes.append(0.5384693101056831)\n",
    "        nodes.append(0.906179845938664)\n",
    "        weights.append(0.2369268850561891)\n",
    "        weights.append(0.4786286704993665)\n",
    "        weights.append(0.5688888888888889)\n",
    "        weights.append(0.4786286704993665)\n",
    "        weights.append(0.2369268850561891)\n",
    "    elif deg == 6:\n",
    "        nodes.append(-0.932469514203152)\n",
    "        nodes.append(-0.6612093864662645)\n",
    "        nodes.append(-0.2386191860831969)\n",
    "        nodes.append(0.2386191860831969)\n",
    "        nodes.append(0.6612093864662645)\n",
    "        nodes.append(0.932469514203152)\n",
    "        weights.append(0.1713244923791704)\n",
    "        weights.append(0.3607615730481386)\n",
    "        weights.append(0.467913934572691)\n",
    "        weights.append(0.467913934572691)\n",
    "        weights.append(0.3607615730481386)\n",
    "        weights.append(0.1713244923791704)\n",
    "    elif deg == 7:\n",
    "        nodes.append(-0.9491079123427585)\n",
    "        nodes.append(-0.7415311855993945)\n",
    "        nodes.append(-0.4058451513773972)\n",
    "        nodes.append(0)\n",
    "        nodes.append(0.4058451513773972)\n",
    "        nodes.append(0.7415311855993945)\n",
    "        nodes.append(0.9491079123427585)\n",
    "        weights.append(0.1294849661688697)\n",
    "        weights.append(0.2797053914892767)\n",
    "        weights.append(0.3818300505051189)\n",
    "        weights.append(0.4179591836734694)\n",
    "        weights.append(0.3818300505051189)\n",
    "        weights.append(0.2797053914892767)\n",
    "        weights.append(0.1294849661688697)\n",
    "    return nodes, weights"
   ]
  },
  {
   "cell_type": "code",
   "execution_count": 3,
   "metadata": {},
   "outputs": [],
   "source": [
    "def gauss_legendre_2D(nglx, ngly):\n",
    "    \"\"\"\n",
    "    Calculate the Gauss-Legendre nodes and weights for the given number of points\n",
    "    [nodes,weights] = gauss_legendre_2D(nglx,ngly)\n",
    "    nglx - number of gauss points in x direction\n",
    "    ngly - number of gauss points in y direction\n",
    "    nodes2 - vector of integration points\n",
    "    weights2 - vector of weight coefficients \n",
    "    \"\"\"\n",
    "   \n",
    "    \n",
    "    if nglx > ngly:\n",
    "        ngl = nglx\n",
    "    else:\n",
    "        ngl = ngly\n",
    "        \n",
    "    nodes2   = np.zeros((ngl,2))\n",
    "    weights2 = np.zeros((ngl,2))\n",
    "    \n",
    "    [nodesx, weightsx] = gauss_legendre_1D(nglx)\n",
    "    [nodesy, weightsy] = gauss_legendre_1D(ngly)\n",
    "    \n",
    "    for I in range(nglx):\n",
    "        nodes2[I,0]   = nodesx[I]\n",
    "        weights2[I,0] = weightsx[I]\n",
    "        \n",
    "    for J in range(ngly):\n",
    "        nodes2[J,1]   = nodesy[J]\n",
    "        weights2[J,1] = weightsy[J]\n",
    "        \n",
    "    \n",
    "    return nodes2, weights2"
   ]
  },
  {
   "cell_type": "markdown",
   "metadata": {},
   "source": [
    "### 1. Quadrilateral Elementary Matrix"
   ]
  },
  {
   "cell_type": "markdown",
   "metadata": {},
   "source": [
    "#### Shape functions and derivatives in reference to $\\xi, \\eta$, reference element"
   ]
  },
  {
   "cell_type": "code",
   "execution_count": 4,
   "metadata": {},
   "outputs": [],
   "source": [
    "def feisoq4(xi, eta, node): # Gauss points in xi, eta\n",
    "    \"\"\"\n",
    "    compute the shape functions and their derivatives, for Q4 elements\n",
    "    at integration point, in terms of natural coords (xi, eta)\n",
    "    \"\"\"\n",
    "    #node 1 (-1, -1)\n",
    "    #node 2 ( 1, -1)\n",
    "    #node 3 ( 1,  1)\n",
    "    #node 4 (-1,  1)\n",
    "    #shape functions\n",
    "    \n",
    "    #initialize\n",
    "    alpha     = np.zeros(4)\n",
    "    dalphdxi  = np.zeros(4)\n",
    "    dalphdeta = np.zeros(4)\n",
    "\n",
    "    nodes = [(-1, -1), (1, -1), (1, 1), (-1, 1)]\n",
    "\n",
    "    for i in range(4):\n",
    "        c_xi, c_eta = nodes[i]  # coefficients before xi and eta (reference element)\n",
    "    \n",
    "        alpha[i] = 0.25 * (1 + c_xi * xi[node]) * (1 + c_eta * eta[node])\n",
    "\n",
    "    # derivatives, dxi\n",
    "        dalphdxi [i] = 0.25 * c_xi  * (1  + c_eta * eta[node])\n",
    "    # deta\n",
    "        dalphdeta[i] = 0.25 * c_eta * (1  + c_xi  * xi[node])\n",
    "\n",
    "\n",
    "    # print(f\"node: {node}; dalphdxi: {dalphdxi}\\n\")\n",
    "    return alpha, dalphdxi, dalphdeta"
   ]
  },
  {
   "cell_type": "markdown",
   "metadata": {},
   "source": [
    "#### Jacobian calculation"
   ]
  },
  {
   "cell_type": "code",
   "execution_count": 5,
   "metadata": {},
   "outputs": [],
   "source": [
    "def fejacob2(nnel, dalphdxi, dalphdeta, xcoord, ycoord):\n",
    "    \"\"\"\n",
    "    Calculation for the jacobian matrix\n",
    "    nnel - number of nodes in the element\n",
    "    dalphdxi -- derivatives of shape function w.r.t xi\n",
    "    dalphdeta -- derivatives of shape function w.r.t eta \n",
    "    xcoord - x coordinate of the nodes\n",
    "    ycoord - y coordinate of the nodes\n",
    "    \"\"\"\n",
    "    #initialize\n",
    "    jacob2 = np.zeros((2, 2))\n",
    "#\n",
    "    for i in range(nnel):\n",
    "        jacob2[0,0] += dalphdxi[i]  * xcoord[i]\n",
    "        jacob2[0,1] += dalphdeta[i] * xcoord[i]\n",
    "        jacob2[1,0] += dalphdxi[i]  * ycoord[i]\n",
    "        jacob2[1,1] += dalphdeta[i] * ycoord[i]\n",
    "    \n",
    "    return jacob2"
   ]
  },
  {
   "cell_type": "markdown",
   "metadata": {},
   "source": [
    "#### Shape functions and derivatives in reference to $x, y$"
   ]
  },
  {
   "cell_type": "code",
   "execution_count": 6,
   "metadata": {},
   "outputs": [],
   "source": [
    "def federiv2(nnel,dalphdxi,dalphdeta,invjacobt):\n",
    "    \"\"\"\n",
    "    Calculation of the derivatives of the shape functions, with respect to x and y\n",
    "    nnel - number of nodes in the element\n",
    "    dalphdxi -- derivatives of shape function w.r.t xi\n",
    "    dalphdeta -- derivatives of shape function w.r.t eta \n",
    "    invjacobt -- inverse of the transposed of the jacobian matrix\n",
    "    \"\"\"\n",
    "\n",
    "    dxi_dx  = invjacobt[0, 0]\n",
    "    deta_dx = invjacobt[0, 1]\n",
    "    dxi_dy  = invjacobt[1, 0]\n",
    "    deta_dy = invjacobt[1, 1]\n",
    "    \n",
    "    #initialize\n",
    "    dalphdx = np.zeros(nnel)\n",
    "    dalphdy = np.zeros(nnel)\n",
    "    for i in range(nnel):\n",
    "        dalphdx[i] = dalphdxi[i] * dxi_dx + dalphdeta[i] * deta_dx\n",
    "        dalphdy[i] = dalphdxi[i] * dxi_dy + dalphdeta[i] * deta_dy\n",
    "\n",
    "    return dalphdx, dalphdy"
   ]
  },
  {
   "cell_type": "markdown",
   "metadata": {},
   "source": [
    "#### Calculation of a Quadrilateral elementary matrix (2D)"
   ]
  },
  {
   "cell_type": "code",
   "execution_count": 7,
   "metadata": {},
   "outputs": [],
   "source": [
    "def elem_2D(xcoord, ycoord) -> np.ndarray:\n",
    "    \"\"\"\n",
    "    Calculation for the elementary matrix of a quadrilateral element\n",
    "    Variables description:\n",
    "    k - element matrix\n",
    "    point2 - integration points\n",
    "    weight2 - weighting coeffs\n",
    "    nglx - number of integration points along x\n",
    "    ngly - number of integration points along y\n",
    "    xcoord - x coordinate of the nodes\n",
    "    ycoord - y coordinate of the nodes\n",
    "    jocob2 - Jacobian matrix\n",
    "    alpha - four-node quadrilateral shape functions\n",
    "    dalphdxi -- derivatives of shape function w.r.t xi\n",
    "    dalphdeta -- derivatives of shape function w.r.t eta\n",
    "    dalphdx -- derivatives of shape function w.r.t x\n",
    "    dalphdy -- derivatives of shape function w.r.t y\n",
    "    \"\"\"\n",
    "    nnel = 4           # number of nodes per element\n",
    "    ndof = 1           # degrees of freedom per node\n",
    "    edof = nnel * ndof # degrees of freedom per element\n",
    "\n",
    "    nglx = 2\n",
    "    ngly = 2           # 2 points in each direction for Gauss integration\n",
    "\n",
    "    [points, weights] = gauss_legendre_2D(nglx, ngly)\n",
    "\n",
    "    k = np.zeros((edof, edof))\n",
    "\n",
    "    nodes = [0, 1, 3, 2]\n",
    "\n",
    "    ref_xi  = [-1/np.sqrt(3),  1/np.sqrt(3), 1/np.sqrt(3), -1/np.sqrt(3)]\n",
    "    ref_eta = [-1/np.sqrt(3), -1/np.sqrt(3), 1/np.sqrt(3),  1/np.sqrt(3)]\n",
    "\n",
    "    # print(points)\n",
    "\n",
    "    #sampling over all the integration points\n",
    "    for node in range(4):\n",
    "    #\n",
    "\n",
    "        al, daldxi, daldeta = feisoq4(ref_xi, ref_eta, node)\n",
    "        # print(daldxi)\n",
    "        # print(daldeta)\n",
    "        # print(\"-----BREAK-----\")\n",
    "    #\n",
    "        jacob2    = fejacob2(edof, daldxi, daldeta, xcoord, ycoord)\n",
    "        detjacob  = np.linalg.det(jacob2)\n",
    "        invjacob  = np.linalg.inv(jacob2)\n",
    "        invjacobt = np.transpose(invjacob)\n",
    "        # print(jacob2)\n",
    "\n",
    "        daldx, daldy = federiv2(edof, daldxi, daldeta, invjacobt)\n",
    "\n",
    "        #calculation of the matrix\n",
    "        for i in range(edof):\n",
    "            ii = nodes[i]\n",
    "            for j in range(edof):\n",
    "                jj = nodes[j]\n",
    "                k[i, j] = (daldx[i] * daldx[j] + daldy[i] * daldy[j]) * detjacob\n",
    "                # not += !!!!!\n",
    "\n",
    "    return al, detjacob, k"
   ]
  },
  {
   "cell_type": "markdown",
   "metadata": {},
   "source": [
    "### 2. Linear Elementary Matrix"
   ]
  },
  {
   "cell_type": "markdown",
   "metadata": {},
   "source": [
    "#### 2.1. Shape functions and derivatives in reference to $\\xi$, reference element"
   ]
  },
  {
   "cell_type": "code",
   "execution_count": 8,
   "metadata": {},
   "outputs": [],
   "source": [
    "def feisoq2(xi): # Gauss points in xi, eta\n",
    "    \"\"\"\n",
    "    compute the shape functions and their derivatives, for Q4 elements\n",
    "    at integration point, in terms of natural coords (xi)\n",
    "    \"\"\"\n",
    "    #node 1 (-1)\n",
    "    #node 2 ( 1)\n",
    "    #shape functions\n",
    "    \n",
    "    #initialize\n",
    "    alpha     = np.zeros(2)\n",
    "    dalphdxi  = np.zeros(2)\n",
    "\n",
    "    nodes = [-1, 1]\n",
    "\n",
    "    for i in range(2):\n",
    "        c_xi = nodes[i]  # coefficients before xi and eta (reference element)\n",
    "    \n",
    "        alpha[i] = 0.5 * (1 + c_xi * xi)\n",
    "\n",
    "    # derivatives, dxi\n",
    "        dalphdxi[i] = 0.5 * c_xi\n",
    "\n",
    "\n",
    "    return alpha, dalphdxi"
   ]
  },
  {
   "cell_type": "markdown",
   "metadata": {},
   "source": [
    "#### 2.2. Jacobian calculation"
   ]
  },
  {
   "cell_type": "code",
   "execution_count": 9,
   "metadata": {},
   "outputs": [],
   "source": [
    "def fe_detjacob(nnel, dalphdxi, xcoord, ycoord):\n",
    "    \"\"\"\n",
    "    Calculation for the jacobian matrix\n",
    "    nnel - number of nodes in the element\n",
    "    dalphdxi -- derivatives of shape function w.r.t xi\n",
    "    xcoord, ycoord - coordinates of the nodes\n",
    "    \"\"\"\n",
    "    #initialize\n",
    "    jacob = 0\n",
    "\n",
    "    dxdxi = 0\n",
    "    dydxi = 0\n",
    "\n",
    "    for i in range(nnel):\n",
    "        dxdxi += dalphdxi[i] * xcoord[i]\n",
    "        dydxi += dalphdxi[i] * ycoord[i]\n",
    "        \n",
    "    jacob = np.sqrt(dxdxi * dxdxi + dydxi * dydxi)\n",
    "    \n",
    "    return jacob\n"
   ]
  },
  {
   "cell_type": "markdown",
   "metadata": {},
   "source": [
    "#### 2.3. Shape functions and derivatives in reference to $x$"
   ]
  },
  {
   "cell_type": "code",
   "execution_count": 10,
   "metadata": {},
   "outputs": [],
   "source": [
    "# def federiv(nnel, dalphdxi, invjacobt):\n",
    "#     \"\"\"\n",
    "#     Calculation of the derivatives of the shape functions, with respect to x and y\n",
    "#     nnel - number of nodes in the element\n",
    "#     dalphdxi -- derivatives of shape function w.r.t xi\n",
    "#     dalphdeta -- derivatives of shape function w.r.t eta \n",
    "#     invjacobt -- inverse of the transposed of the jacobian matrix\n",
    "#     \"\"\"\n",
    "\n",
    "#     dxi_dx  = invjacobt\n",
    "    \n",
    "#     #initialize\n",
    "#     dalphdx = np.zeros(nnel)\n",
    "#     for i in range(nnel):\n",
    "#         dalphdx[i] = dalphdxi[i] * dxi_dx\n",
    "\n",
    "#     return dalphdx"
   ]
  },
  {
   "cell_type": "markdown",
   "metadata": {},
   "source": [
    "#### 2.4. Calculation of a Linear elementary matrix (1D)"
   ]
  },
  {
   "cell_type": "code",
   "execution_count": 11,
   "metadata": {},
   "outputs": [],
   "source": [
    "def elem_1D(xcoord, ycoord) -> np.ndarray:\n",
    "    \"\"\"\n",
    "    Calculation for the elementary matrix of a linear element\n",
    "    Variables description:\n",
    "    k - element matrix\n",
    "    point2 - integration points\n",
    "    weight2 - weighting coeffs\n",
    "    nglx - number of integration points along x\n",
    "    ngly - number of integration points along y\n",
    "    xcoord - x coordinate of the nodes\n",
    "    ycoord - y coordinate of the nodes\n",
    "    jocob2 - Jacobian matrix\n",
    "    alpha - four-node quadrilateral shape functions\n",
    "    dalphdxi -- derivatives of shape function w.r.t xi\n",
    "    dalphdeta -- derivatives of shape function w.r.t eta\n",
    "    dalphdx -- derivatives of shape function w.r.t x\n",
    "    dalphdy -- derivatives of shape function w.r.t y\n",
    "    \"\"\"\n",
    "    nnel = 2           # number of nodes per element\n",
    "    ndof = 1           # degrees of freedom per node\n",
    "    edof = nnel * ndof # degrees of freedom per element\n",
    "\n",
    "    nglx = 2       # 2 points in each direction for Gauss integration\n",
    "\n",
    "    [points, weights] = gauss_legendre_1D(nglx)\n",
    "\n",
    "    k = np.zeros((edof, edof))\n",
    "\n",
    "    #sampling over all the integration points\n",
    "    for intx in range(nglx):\n",
    "        x_c = points[intx]\n",
    "\n",
    "        al, daldxi = feisoq2(x_c)\n",
    "        \n",
    "        detjacob = fe_detjacob(edof, daldxi, xcoord, ycoord)\n",
    "        # invjacob = 1 / detjacob\n",
    "\n",
    "        # daldx = federiv(edof, daldxi, invjacob)\n",
    "\n",
    "        #calculation of the matrix\n",
    "        for i in range(edof):\n",
    "            for j in range(edof):\n",
    "                k[i,j] = (al[i] * al[j]) * detjacob\n",
    "\n",
    "        # print(x_c, daldxi, jacob, invjacob, daldx, k)\n",
    "        # k[i,j] += (daldx[i] * daldx[j]) * detjacob\n",
    "        # k[i,j] += (al[i] * al[j]) * detjacob\n",
    "        print(al, detjacob)\n",
    "\n",
    "    return al, detjacob, k"
   ]
  },
  {
   "cell_type": "markdown",
   "metadata": {},
   "source": [
    "### 3. Main Program Body"
   ]
  },
  {
   "cell_type": "markdown",
   "metadata": {},
   "source": [
    "#### 3.1. Constants"
   ]
  },
  {
   "cell_type": "code",
   "execution_count": 12,
   "metadata": {},
   "outputs": [],
   "source": [
    "r_length = 0.12\n",
    "z_length = 0.4\n",
    "dr = 0.02\n",
    "dz = 0.02\n",
    "\n",
    "assert(r_length / dr == int(r_length / dr)) ## checking for whole values, so that we don't have crucible and material in one element\n",
    "assert(z_length / dz == int(z_length / dz))\n",
    "assert(dz <= 0.02)\n",
    "assert(dr <= 0.02)"
   ]
  },
  {
   "cell_type": "code",
   "execution_count": 13,
   "metadata": {},
   "outputs": [],
   "source": [
    "h     = 20000\n",
    "Tr    = 300\n",
    "sigma = 5.67e-8\n",
    "Q     = 400000\n",
    "\n",
    "radiative = False\n",
    "\n",
    "class Material:\n",
    "    def __init__(self, Tmelt, k, emissivity = None):\n",
    "        self.k      = k                           # thermal conductivity\n",
    "        self.Tmelt  = Tmelt\n",
    "        self.emiss  = emissivity"
   ]
  },
  {
   "cell_type": "code",
   "execution_count": 14,
   "metadata": {},
   "outputs": [],
   "source": [
    "iron      = Material(1811, 80.2, 0.35)\n",
    "titanium  = Material(1941, 15, 0.47)\n",
    "aluminium = Material(933.3, 238, 0.1)\n",
    "\n",
    "crucible  = Material(2323, 40)\n",
    "air       = Material(132, 0.024)"
   ]
  },
  {
   "cell_type": "code",
   "execution_count": 15,
   "metadata": {},
   "outputs": [],
   "source": [
    "selected = iron      # selection for material analysis"
   ]
  },
  {
   "cell_type": "markdown",
   "metadata": {},
   "source": [
    "#### 3.2. Mesh definition"
   ]
  },
  {
   "cell_type": "code",
   "execution_count": 16,
   "metadata": {},
   "outputs": [],
   "source": [
    "r_blocks = int(r_length / dr)\n",
    "z_blocks = int(z_length / dz)\n",
    "num_blocks = r_blocks * z_blocks\n",
    "\n",
    "m_size = (r_blocks + 1) * (z_blocks + 1)\n",
    "\n",
    "M = np.zeros((m_size, m_size))\n",
    "K = np.zeros(m_size)"
   ]
  },
  {
   "cell_type": "markdown",
   "metadata": {},
   "source": [
    "#### 3.3. Filling M, K for internal (quadrilateral) conductivity"
   ]
  },
  {
   "cell_type": "code",
   "execution_count": 17,
   "metadata": {},
   "outputs": [],
   "source": [
    "for block in range(num_blocks):\n",
    "\n",
    "    z_step = block // r_blocks\n",
    "    r_step = block %  r_blocks\n",
    "\n",
    "    # coordinates of bottom left point in a given mesh quadrilateral\n",
    "    r, z = r_step * dr, z_step * dz\n",
    "\n",
    "    rcoord   = np.array([r, r + dr, r + dr,      r])\n",
    "    zcoord   = np.array([z,      z, z + dz, z + dz])\n",
    "\n",
    "    node_num = np.array([r_step     + z_step       * (r_blocks + 1),\n",
    "                         r_step + 1 + z_step       * (r_blocks + 1),\n",
    "                         r_step + 1 + (z_step + 1) * (r_blocks + 1),\n",
    "                         r_step     + (z_step + 1) * (r_blocks + 1)])\n",
    "    \n",
    "    \n",
    "    if ((zcoord <= 0.02).all() or (rcoord >= 0.1).all()):\n",
    "        k = crucible.k\n",
    "        Q_in = 0\n",
    "    elif (zcoord <= 0.32).all():\n",
    "        k = selected.k \n",
    "        Q_in = Q\n",
    "        ## material\n",
    "    else: \n",
    "        k = air.k\n",
    "        Q_in = 0\n",
    "        # air\n",
    "\n",
    "\n",
    "    alpha, detjacob, elem_m = elem_2D(rcoord, zcoord)\n",
    "\n",
    "    for i in range(4):\n",
    "        ii = node_num[i]\n",
    "\n",
    "        for j in range(4):\n",
    "            jj = node_num[j]\n",
    "            M[ii][jj] += k * elem_m[i][j] \n",
    "\n",
    "        K[ii] += alpha[i] * Q_in * detjacob"
   ]
  },
  {
   "cell_type": "code",
   "execution_count": 18,
   "metadata": {},
   "outputs": [
    {
     "name": "stdout",
     "output_type": "stream",
     "text": [
      "[[ 6.66666667e+00  1.22008468e+00  0.00000000e+00 ...  0.00000000e+00\n",
      "   0.00000000e+00  0.00000000e+00]\n",
      " [ 1.22008468e+00  7.55983064e+00  1.22008468e+00 ...  0.00000000e+00\n",
      "   0.00000000e+00  0.00000000e+00]\n",
      " [ 0.00000000e+00  1.22008468e+00  7.55983064e+00 ...  0.00000000e+00\n",
      "   0.00000000e+00  0.00000000e+00]\n",
      " ...\n",
      " [ 0.00000000e+00  0.00000000e+00  0.00000000e+00 ...  1.14641016e-02\n",
      "  -2.73205081e-03  0.00000000e+00]\n",
      " [ 0.00000000e+00  0.00000000e+00  0.00000000e+00 ... -2.73205081e-03\n",
      "   1.24441694e+01 -4.55341801e+00]\n",
      " [ 0.00000000e+00  0.00000000e+00  0.00000000e+00 ...  0.00000000e+00\n",
      "  -4.55341801e+00  6.66666667e+00]]\n"
     ]
    }
   ],
   "source": [
    "print(M)"
   ]
  },
  {
   "cell_type": "markdown",
   "metadata": {},
   "source": [
    "#### 3.4. Filling M, K for convective exchanges on boundaries"
   ]
  },
  {
   "cell_type": "markdown",
   "metadata": {},
   "source": [
    "Go around the outer edge of the crucible (gamma 1 cr -> gamma 4 cr), then across the surface of the material to the center (gamma 3 mat)"
   ]
  },
  {
   "cell_type": "code",
   "execution_count": 19,
   "metadata": {},
   "outputs": [
    {
     "name": "stdout",
     "output_type": "stream",
     "text": [
      "[0.78867513 0.21132487] 0.01\n",
      "[0.21132487 0.78867513] 0.01\n",
      "[0.78867513 0.21132487] 0.01\n",
      "[0.21132487 0.78867513] 0.01\n",
      "[0.78867513 0.21132487] 0.009999999999999998\n",
      "[0.21132487 0.78867513] 0.009999999999999998\n",
      "[0.78867513 0.21132487] 0.010000000000000002\n",
      "[0.21132487 0.78867513] 0.010000000000000002\n",
      "[0.78867513 0.21132487] 0.010000000000000002\n",
      "[0.21132487 0.78867513] 0.010000000000000002\n",
      "[0.78867513 0.21132487] 0.010000000000000002\n",
      "[0.21132487 0.78867513] 0.010000000000000002\n",
      "[0.78867513 0.21132487] 0.01\n",
      "[0.21132487 0.78867513] 0.01\n",
      "[0.78867513 0.21132487] 0.01\n",
      "[0.21132487 0.78867513] 0.01\n",
      "[0.78867513 0.21132487] 0.009999999999999998\n",
      "[0.21132487 0.78867513] 0.009999999999999998\n",
      "[0.78867513 0.21132487] 0.010000000000000002\n",
      "[0.21132487 0.78867513] 0.010000000000000002\n",
      "[0.78867513 0.21132487] 0.010000000000000002\n",
      "[0.21132487 0.78867513] 0.010000000000000002\n",
      "[0.78867513 0.21132487] 0.010000000000000002\n",
      "[0.21132487 0.78867513] 0.010000000000000002\n",
      "[0.78867513 0.21132487] 0.010000000000000002\n",
      "[0.21132487 0.78867513] 0.010000000000000002\n",
      "[0.78867513 0.21132487] 0.009999999999999995\n",
      "[0.21132487 0.78867513] 0.009999999999999995\n",
      "[0.78867513 0.21132487] 0.009999999999999995\n",
      "[0.21132487 0.78867513] 0.009999999999999995\n",
      "[0.78867513 0.21132487] 0.009999999999999995\n",
      "[0.21132487 0.78867513] 0.009999999999999995\n",
      "[0.78867513 0.21132487] 0.009999999999999995\n",
      "[0.21132487 0.78867513] 0.009999999999999995\n",
      "[0.78867513 0.21132487] 0.009999999999999995\n",
      "[0.21132487 0.78867513] 0.009999999999999995\n",
      "[0.78867513 0.21132487] 0.009999999999999995\n",
      "[0.21132487 0.78867513] 0.009999999999999995\n",
      "[0.78867513 0.21132487] 0.010000000000000009\n",
      "[0.21132487 0.78867513] 0.010000000000000009\n",
      "[0.78867513 0.21132487] 0.010000000000000009\n",
      "[0.21132487 0.78867513] 0.010000000000000009\n",
      "[0.78867513 0.21132487] 0.010000000000000009\n",
      "[0.21132487 0.78867513] 0.010000000000000009\n",
      "[0.78867513 0.21132487] 0.010000000000000009\n",
      "[0.21132487 0.78867513] 0.010000000000000009\n",
      "[0.78867513 0.21132487] 0.010000000000000009\n",
      "[0.21132487 0.78867513] 0.010000000000000009\n",
      "[0.78867513 0.21132487] 0.010000000000000009\n",
      "[0.21132487 0.78867513] 0.010000000000000009\n",
      "[0.78867513 0.21132487] 0.010000000000000009\n",
      "[0.21132487 0.78867513] 0.010000000000000009\n",
      "[0.78867513 0.21132487] 0.010000000000000002\n",
      "[0.21132487 0.78867513] 0.010000000000000002\n",
      "[0.78867513 0.21132487] 0.010000000000000009\n",
      "[0.21132487 0.78867513] 0.010000000000000009\n",
      "[0.78867513 0.21132487] 0.010000000000000009\n",
      "[0.21132487 0.78867513] 0.010000000000000009\n",
      "[0.78867513 0.21132487] 0.010000000000000009\n",
      "[0.21132487 0.78867513] 0.010000000000000009\n",
      "[0.78867513 0.21132487] 0.010000000000000009\n",
      "[0.21132487 0.78867513] 0.010000000000000009\n",
      "[0.78867513 0.21132487] 0.010000000000000002\n",
      "[0.21132487 0.78867513] 0.010000000000000002\n",
      "[0.78867513 0.21132487] 0.010000000000000002\n",
      "[0.21132487 0.78867513] 0.010000000000000002\n",
      "[0.78867513 0.21132487] 0.010000000000000002\n",
      "[0.21132487 0.78867513] 0.010000000000000002\n",
      "[0.78867513 0.21132487] 0.01\n",
      "[0.21132487 0.78867513] 0.01\n",
      "[0.78867513 0.21132487] 0.01\n",
      "[0.21132487 0.78867513] 0.01\n"
     ]
    }
   ],
   "source": [
    "## gamma cr 1\n",
    "\n",
    "coords = np.array([0., 0.])\n",
    "\n",
    "\n",
    "while (coords[0] < 0.12):\n",
    "    r1, r2 = coords[0], coords[0] + dr\n",
    "    z = coords[1]\n",
    "\n",
    "    alpha, detjacob, elem_m = elem_1D([r1, r2], [z, z])\n",
    "\n",
    "    node_num = int(coords[0] / dr + coords[1] / dz * (r_blocks + 1))\n",
    "\n",
    "    for i in range(2):\n",
    "        ii = node_num + i\n",
    "\n",
    "        for j in range(2):\n",
    "            jj = node_num + j\n",
    "\n",
    "            M[ii][jj] += h * elem_m[i][j]\n",
    "\n",
    "        K[ii] += h * Tr * alpha[i] * detjacob\n",
    "\n",
    "    coords[0] += dr\n",
    "\n",
    "\n",
    "## gamma cr 2\n",
    "\n",
    "while (coords[1] < 0.4):\n",
    "    z1, z2 = coords[1], coords[1] + dz\n",
    "    r = coords[0]\n",
    "\n",
    "    alpha, detjacob, elem_m = elem_1D([r, r], [z1, z2])\n",
    "\n",
    "\n",
    "    node_num = int(coords[0] / dr + coords[1] / dz * (r_blocks + 1))\n",
    "\n",
    "    for i in range(2):\n",
    "        ii = node_num + (r_blocks + 1) * i\n",
    "\n",
    "        for j in range(2):\n",
    "            jj = node_num + (r_blocks + 1) * j\n",
    "\n",
    "            M[ii][jj] += h * elem_m[i][j]\n",
    "\n",
    "        K[ii] += h * Tr * alpha[i] * detjacob\n",
    "        \n",
    "    coords[1] += dz\n",
    "\n",
    "## gamma cr 3\n",
    "\n",
    "while (coords[0] > 0.1):\n",
    "\n",
    "    coords[0] -= dr\n",
    "\n",
    "    r1, r2 = coords[0], coords[0] + dr\n",
    "    z = coords[1]\n",
    "\n",
    "    alpha, detjacob, elem_m = elem_1D([r1, r2], [z, z])\n",
    "\n",
    "\n",
    "    node_num = int(coords[0] / dr + coords[1] / dz * (r_blocks + 1))\n",
    "\n",
    "    for i in range(2):\n",
    "        ii = node_num + i\n",
    "\n",
    "        for j in range(2):\n",
    "            jj = node_num + j\n",
    "\n",
    "            M[ii][jj] += h * elem_m[i][j]\n",
    "\n",
    "        K[ii] += h * Tr * alpha[i] * detjacob\n",
    "\n",
    "#gamma cr 4 \n",
    "\n",
    "while (coords[1] > 0.32):\n",
    "\n",
    "    coords[1] -= dz\n",
    "\n",
    "    z1, z2 = coords[1], coords[1] + dz\n",
    "    r = coords[0]\n",
    "\n",
    "    alpha, detjacob, elem_m = elem_1D([r, r], [z1, z2])\n",
    "\n",
    "\n",
    "    node_num = int(coords[0] / dr + coords[1] / dz * (r_blocks + 1))\n",
    "\n",
    "    for i in range(2):\n",
    "        ii = node_num + (r_blocks + 1) * i\n",
    "\n",
    "        for j in range(2):\n",
    "            jj = node_num + (r_blocks + 1) * j\n",
    "\n",
    "            M[ii][jj] += h * elem_m[i][j]\n",
    "\n",
    "        K[ii] += h * Tr * alpha[i] * detjacob\n",
    "\n",
    "# gamma mat 3\n",
    "\n",
    "while (coords[0] > 0):\n",
    "\n",
    "    coords[0] -= dr\n",
    "    \n",
    "    r1, r2 = coords[0], coords[0] + dr\n",
    "    z = coords[1]\n",
    "\n",
    "    alpha, detjacob, elem_m = elem_1D([r1, r2], [z, z])\n",
    "\n",
    "    node_num = int(coords[0] / dr + coords[1] / dz * (r_blocks + 1))\n",
    "\n",
    "    for i in range(2):\n",
    "        ii = node_num + i\n",
    "\n",
    "        for j in range(2):\n",
    "            jj = node_num + j\n",
    "            \n",
    "            M[ii][jj] += h * elem_m[i][j]\n",
    "\n",
    "        K[ii] += h * Tr * alpha[i] * detjacob"
   ]
  },
  {
   "cell_type": "code",
   "execution_count": null,
   "metadata": {},
   "outputs": [],
   "source": []
  },
  {
   "cell_type": "markdown",
   "metadata": {},
   "source": [
    "#### 3.5 Filling M for radiative exchange on material surface"
   ]
  },
  {
   "cell_type": "code",
   "execution_count": 20,
   "metadata": {},
   "outputs": [],
   "source": [
    "Tp = None\n",
    "\n",
    "if radiative:\n",
    "    constant = selected.emiss * sigma\n",
    "\n",
    "    coords = np.array([0., 0.32])\n",
    "\n",
    "    while (coords[0] < 0.1):\n",
    "        r1, r2 = coords[0], coords[0] + dr\n",
    "        elem_m = elem_1D([r1, r2])\n",
    "\n",
    "        node_num = int(coords[0] / dr + coords[1] / dz * r_blocks)\n",
    "\n",
    "        for i in range(2):\n",
    "            for j in range(2):\n",
    "                M[node_num + i][node_num + j] += constant * (Tp**3) * elem_m[i][j]\n",
    "            K[node_num + i] += constant * (Tr**4) * elem_m[i][j]\n",
    "\n",
    "        coords[0] += dr\n",
    "        assert(False)"
   ]
  },
  {
   "cell_type": "markdown",
   "metadata": {},
   "source": [
    "### 4. Solving the system"
   ]
  },
  {
   "cell_type": "code",
   "execution_count": 21,
   "metadata": {},
   "outputs": [],
   "source": [
    "from scipy.sparse.linalg import spsolve"
   ]
  },
  {
   "cell_type": "code",
   "execution_count": 22,
   "metadata": {},
   "outputs": [
    {
     "name": "stderr",
     "output_type": "stream",
     "text": [
      "C:\\Users\\user\\AppData\\Local\\Temp\\ipykernel_21264\\380662226.py:1: SparseEfficiencyWarning: spsolve requires A be CSC or CSR matrix format\n",
      "  T = spsolve(M, K)\n"
     ]
    }
   ],
   "source": [
    "T = spsolve(M, K)"
   ]
  },
  {
   "cell_type": "code",
   "execution_count": 23,
   "metadata": {},
   "outputs": [],
   "source": [
    "np.set_printoptions(threshold=100000)"
   ]
  },
  {
   "cell_type": "code",
   "execution_count": 24,
   "metadata": {},
   "outputs": [
    {
     "data": {
      "text/plain": [
       "2.6008014655873656e+180"
      ]
     },
     "execution_count": 24,
     "metadata": {},
     "output_type": "execute_result"
    }
   ],
   "source": [
    "np.linalg.det(M)"
   ]
  },
  {
   "cell_type": "code",
   "execution_count": 25,
   "metadata": {},
   "outputs": [
    {
     "data": {
      "text/plain": [
       "array([1.26794919e+04, 6.00000000e+04, 6.00000000e+04, 6.00000000e+04,\n",
       "       6.00000000e+04, 6.00000000e+04, 6.00000000e+04, 6.66666667e+00,\n",
       "       8.45299462e+00, 8.45299462e+00, 8.45299462e+00, 8.45299462e+00,\n",
       "       1.78632795e+00, 6.00000000e+04, 3.15470054e+01, 4.00000000e+01,\n",
       "       4.00000000e+01, 4.00000000e+01, 4.00000000e+01, 8.45299462e+00,\n",
       "       6.00000000e+04, 3.15470054e+01, 4.00000000e+01, 4.00000000e+01,\n",
       "       4.00000000e+01, 4.00000000e+01, 8.45299462e+00, 6.00000000e+04,\n",
       "       3.15470054e+01, 4.00000000e+01, 4.00000000e+01, 4.00000000e+01,\n",
       "       4.00000000e+01, 8.45299462e+00, 6.00000000e+04, 3.15470054e+01,\n",
       "       4.00000000e+01, 4.00000000e+01, 4.00000000e+01, 4.00000000e+01,\n",
       "       8.45299462e+00, 6.00000000e+04, 3.15470054e+01, 4.00000000e+01,\n",
       "       4.00000000e+01, 4.00000000e+01, 4.00000000e+01, 8.45299462e+00,\n",
       "       6.00000000e+04, 3.15470054e+01, 4.00000000e+01, 4.00000000e+01,\n",
       "       4.00000000e+01, 4.00000000e+01, 8.45299462e+00, 6.00000000e+04,\n",
       "       3.15470054e+01, 4.00000000e+01, 4.00000000e+01, 4.00000000e+01,\n",
       "       4.00000000e+01, 8.45299462e+00, 6.00000000e+04, 3.15470054e+01,\n",
       "       4.00000000e+01, 4.00000000e+01, 4.00000000e+01, 4.00000000e+01,\n",
       "       8.45299462e+00, 6.00000000e+04, 3.15470054e+01, 4.00000000e+01,\n",
       "       4.00000000e+01, 4.00000000e+01, 4.00000000e+01, 1.26879449e+04,\n",
       "       4.73205081e+04, 3.15470054e+01, 4.00000000e+01, 4.00000000e+01,\n",
       "       4.00000000e+01, 4.00000000e+01, 6.00084530e+04, 0.00000000e+00,\n",
       "       3.15470054e+01, 4.00000000e+01, 4.00000000e+01, 4.00000000e+01,\n",
       "       4.00000000e+01, 6.00084530e+04, 0.00000000e+00, 3.15470054e+01,\n",
       "       4.00000000e+01, 4.00000000e+01, 4.00000000e+01, 4.00000000e+01,\n",
       "       6.00084530e+04, 0.00000000e+00, 3.15470054e+01, 4.00000000e+01,\n",
       "       4.00000000e+01, 4.00000000e+01, 4.00000000e+01, 6.00084530e+04,\n",
       "       0.00000000e+00, 3.15470054e+01, 4.00000000e+01, 4.00000000e+01,\n",
       "       4.00000000e+01, 4.00000000e+01, 4.73289611e+04, 1.26794919e+04,\n",
       "       1.27043723e+04, 6.00315470e+04, 6.00315470e+04, 6.00315470e+04,\n",
       "       6.00315470e+04, 6.00066667e+04, 6.00000000e+04, 0.00000000e+00,\n",
       "       0.00000000e+00, 0.00000000e+00, 0.00000000e+00, 0.00000000e+00,\n",
       "       6.00000000e+04, 6.00000000e+04, 0.00000000e+00, 0.00000000e+00,\n",
       "       0.00000000e+00, 0.00000000e+00, 0.00000000e+00, 6.00000000e+04,\n",
       "       6.00000000e+04, 0.00000000e+00, 0.00000000e+00, 0.00000000e+00,\n",
       "       0.00000000e+00, 0.00000000e+00, 6.00000000e+04, 6.00000000e+04,\n",
       "       0.00000000e+00, 0.00000000e+00, 0.00000000e+00, 0.00000000e+00,\n",
       "       0.00000000e+00, 6.00000000e+04, 9.46410162e+04])"
      ]
     },
     "execution_count": 25,
     "metadata": {},
     "output_type": "execute_result"
    }
   ],
   "source": [
    "K"
   ]
  },
  {
   "cell_type": "code",
   "execution_count": 26,
   "metadata": {},
   "outputs": [
    {
     "data": {
      "text/plain": [
       "array([313.58007094, 297.29453954, 301.46254534, 300.25131638,\n",
       "       300.43133983, 300.19259722, 300.00502593, 315.57620646,\n",
       "       314.22546676, 311.77620416, 310.37740133, 308.10108426,\n",
       "       304.35498413, 300.20799991, 320.14951658, 319.23533337,\n",
       "       317.50490259, 315.10721468, 311.98932357, 308.09011414,\n",
       "       300.36599051, 324.02928757, 323.21489149, 321.42115397,\n",
       "       318.69651752, 315.0060926 , 310.19614246, 300.48383446,\n",
       "       327.00319428, 326.1548213 , 324.23588482, 321.23462857,\n",
       "       317.08790198, 311.6618605 , 300.55021666, 329.06498259,\n",
       "       328.16559676, 326.11854152, 322.89589005, 318.43000868,\n",
       "       312.59703802, 300.59647459, 330.27105992, 329.32320248,\n",
       "       327.16804978, 323.78522103, 319.12184662, 313.07064524,\n",
       "       300.61877392, 330.68257431, 329.68952352, 327.44025398,\n",
       "       323.94113148, 319.18100872, 313.08879238, 300.6192441 ,\n",
       "       330.35858231, 329.31946717, 326.96796078, 323.34243821,\n",
       "       318.53723527, 312.57572215, 300.59297128, 329.35717384,\n",
       "       328.27187415, 325.80275708, 321.95120328, 316.93291765,\n",
       "       311.29963093, 300.5287818 , 327.73103721, 326.61332454,\n",
       "       324.03965289, 319.93109823, 314.07052871, 307.77044701,\n",
       "       300.30373478, 325.51132143, 324.39850696, 321.80923538,\n",
       "       317.55418608, 311.30326736, 299.83644173, 303.8269546 ,\n",
       "       322.68265512, 321.63372449, 319.18206718, 315.13628524,\n",
       "       308.97631626, 301.1657982 , 299.95129764, 319.16354257,\n",
       "       318.23865081, 316.09877911, 312.60213193, 307.57926125,\n",
       "       300.64812087, 300.98368221, 314.81749514, 314.02761631,\n",
       "       312.31828916, 309.66643035, 305.8745895 , 300.57938024,\n",
       "       300.49227275, 309.52915817, 308.75315955, 307.31681856,\n",
       "       305.85768926, 303.69884663, 300.3798181 , 300.3573985 ,\n",
       "       304.75479235, 300.38435082, 300.89171847, 300.65025714,\n",
       "       300.45952684, 300.13804422, 299.91789044, 302.02709591,\n",
       "       301.56037644, 300.8553349 , 300.62505284, 300.3423142 ,\n",
       "       299.97139069, 300.02460479, 301.42865141, 301.22794824,\n",
       "       300.91311943, 300.58985581, 300.29829594, 300.00609008,\n",
       "       299.99292697, 301.15959533, 301.04767661, 300.83173588,\n",
       "       300.56697472, 300.2860186 , 299.99867055, 300.00193516,\n",
       "       301.06054842, 300.97092431, 300.78888986, 300.54849805,\n",
       "       300.2793842 , 300.00037942, 299.99967817])"
      ]
     },
     "execution_count": 26,
     "metadata": {},
     "output_type": "execute_result"
    }
   ],
   "source": [
    "T"
   ]
  },
  {
   "cell_type": "code",
   "execution_count": 27,
   "metadata": {},
   "outputs": [],
   "source": [
    "import pandas as pd\n"
   ]
  },
  {
   "cell_type": "code",
   "execution_count": 28,
   "metadata": {},
   "outputs": [
    {
     "data": {
      "image/png": "[encoded data removed]",
      "text/plain": [
       "<Figure size 640x480 with 2 Axes>"
      ]
     },
     "metadata": {},
     "output_type": "display_data"
    }
   ],
   "source": [
    "import numpy as np\n",
    "import matplotlib.pyplot as plt\n",
    "import matplotlib.tri as tri\n",
    "\n",
    "# converts quad elements into tri elements\n",
    "def quads_to_tris(quads):\n",
    "    tris = [[None for j in range(3)] for i in range(2*len(quads))]\n",
    "    for i in range(len(quads)):\n",
    "        j = 2*i\n",
    "        n0 = quads[i][0]\n",
    "        n1 = quads[i][1]\n",
    "        n2 = quads[i][2]\n",
    "        n3 = quads[i][3]\n",
    "        tris[j][0] = n0\n",
    "        tris[j][1] = n1\n",
    "        tris[j][2] = n2\n",
    "        tris[j + 1][0] = n2\n",
    "        tris[j + 1][1] = n3\n",
    "        tris[j + 1][2] = n0\n",
    "    return tris\n",
    "\n",
    "# plots a finite element mesh\n",
    "def plot_fem_mesh(nodes_x, nodes_y, elements):\n",
    "    for element in elements:\n",
    "        x = [nodes_x[element[i]] for i in range(len(element))]\n",
    "        y = [nodes_y[element[i]] for i in range(len(element))]\n",
    "        plt.fill(x, y, edgecolor='black', fill=False)\n",
    "\n",
    "# FEM data=====================\n",
    "#nodes_x = [0.0, 1.0, 2.0, 0.0, 1.0, 2.0, 3.0, 0.0, 1.0, 2.0, 3.0]\n",
    "#nodes_y = [0.0, 0.0, 0.0, 1.0, 1.0, 1.0, 1.0, 2.0, 2.0, 2.0, 2.0]\n",
    "\n",
    "nodex   = np.linspace(0, r_blocks, r_blocks + 1)\n",
    "nodes_x = np.tile(nodex, z_blocks + 1)\n",
    "\n",
    "nodey   = np.linspace(0, z_blocks, z_blocks + 1).reshape(-1, 1)\n",
    "nodes_y = np.tile(nodey, r_blocks + 1).ravel()\n",
    "\n",
    "nodal_values = T\n",
    "\n",
    "#nodal values of the field we want to plot\n",
    "#nodal_values = [1.0, 0.9, 1.1, 0.9, 2.1, 2.1, 0.9, 1.0, 1.0, 0.9, 0.8]\n",
    "#table of connectivity of elements\n",
    "#triangular elements\n",
    "# elements_tris = [[2, 6, 5], [5, 6, 10], [10, 9, 5]]\n",
    "#square elements\n",
    "\n",
    "elements_quads = np.array([[r_step + z_step * (r_blocks + 1),\n",
    "                            r_step + 1 + z_step * (r_blocks + 1),\n",
    "                            r_step + 1 + (z_step + 1) * (r_blocks + 1),\n",
    "                            r_step + (z_step + 1) * (r_blocks + 1)] \n",
    "                \n",
    "                            for z_step in range(0, z_blocks) \n",
    "                            for r_step in range(0, r_blocks)])\n",
    "\n",
    "\n",
    "# elements_quads = [[0, 1, 4, 3], [1, 2, 5, 4], [3, 4, 8, 7], [4, 5, 9, 8]]\n",
    "#========================================================================\n",
    "\n",
    "elements = elements_quads\n",
    "\n",
    "\n",
    "# convert all elements into triangles\n",
    "#elements_all_tris = elements_tris + quads_to_tris(elements_quads)\n",
    "\n",
    "elements_all_tris = quads_to_tris(elements_quads)\n",
    "\n",
    "# create an unstructured triangular grid instance\n",
    "triangulation = tri.Triangulation(nodes_x, nodes_y, elements_all_tris)\n",
    "\n",
    "\n",
    "# plot the finite element mesh\n",
    "plot_fem_mesh(nodes_x, nodes_y, elements)\n",
    "\n",
    "# plot the contours\n",
    "plt.tricontourf(triangulation, nodal_values)\n",
    "\n",
    "# show\n",
    "plt.colorbar()\n",
    "plt.axis('equal')\n",
    "plt.show()"
   ]
  },
  {
   "cell_type": "code",
   "execution_count": 29,
   "metadata": {},
   "outputs": [
    {
     "data": {
      "text/plain": [
       "array([[0., 0., 0.],\n",
       "       [0., 0., 0.]])"
      ]
     },
     "execution_count": 29,
     "metadata": {},
     "output_type": "execute_result"
    }
   ],
   "source": [
    "np.zeros((2, 3))"
   ]
  },
  {
   "cell_type": "code",
   "execution_count": 30,
   "metadata": {},
   "outputs": [],
   "source": [
    "a = np.array([0.1, 0.2, 0.5])"
   ]
  },
  {
   "cell_type": "code",
   "execution_count": 31,
   "metadata": {},
   "outputs": [
    {
     "data": {
      "text/plain": [
       "True"
      ]
     },
     "execution_count": 31,
     "metadata": {},
     "output_type": "execute_result"
    }
   ],
   "source": [
    "(a > 0.1).any()"
   ]
  },
  {
   "cell_type": "code",
   "execution_count": 32,
   "metadata": {},
   "outputs": [
    {
     "name": "stdout",
     "output_type": "stream",
     "text": [
      "[(1, 3), (2, 4), (3, 5)]\n"
     ]
    }
   ],
   "source": [
    "a = [1, 2, 3]\n",
    "b  = [3, 4, 5]\n",
    "\n",
    "print(list(zip(a, b)))"
   ]
  },
  {
   "cell_type": "code",
   "execution_count": null,
   "metadata": {},
   "outputs": [],
   "source": []
  },
  {
   "cell_type": "code",
   "execution_count": null,
   "metadata": {},
   "outputs": [],
   "source": []
  }
 ],
 "metadata": {
  "kernelspec": {
   "display_name": "eproj",
   "language": "python",
   "name": "python3"
  },
  "language_info": {
   "codemirror_mode": {
    "name": "ipython",
    "version": 3
   },
   "file_extension": ".py",
   "mimetype": "text/x-python",
   "name": "python",
   "nbconvert_exporter": "python",
   "pygments_lexer": "ipython3",
   "version": "3.12.7"
  }
 },
 "nbformat": 4,
 "nbformat_minor": 2
}
