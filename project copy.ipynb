{
 "cells": [
  {
   "cell_type": "markdown",
   "metadata": {},
   "source": [
    "## Finite Element Method"
   ]
  },
  {
   "cell_type": "code",
   "execution_count": 353,
   "metadata": {},
   "outputs": [],
   "source": [
    "import numpy as np\n",
    "import pandas as pd\n",
    "import matplotlib.pyplot as plt\n",
    "\n",
    "from IPython.display import clear_output\n",
    "from scipy.sparse.linalg import spsolve\n",
    "\n",
    "np.set_printoptions(threshold=100000)"
   ]
  },
  {
   "cell_type": "markdown",
   "metadata": {},
   "source": [
    "### 0. Gauss-Legendre Nodes"
   ]
  },
  {
   "cell_type": "code",
   "execution_count": 354,
   "metadata": {},
   "outputs": [],
   "source": [
    "def gauss_legendre_1D(deg):\n",
    "    \"\"\"\n",
    "    Calculate the Gauss-Legendre nodes and weights for the given number of points\n",
    "    [nodes,weights] = \n",
    "    \"\"\"\n",
    "    nodes = []\n",
    "    weights = []\n",
    "\n",
    "    if deg == 1:\n",
    "        nodes.append(0)\n",
    "        weights.append(2)\n",
    "    elif deg == 2:\n",
    "        nodes.append(-0.5773502691896257)\n",
    "        nodes.append(0.5773502691896257)\n",
    "        weights.append(1)\n",
    "        weights.append(1)\n",
    "    elif deg == 3:\n",
    "        nodes.append(-0.7745966692414834)\n",
    "        nodes.append(0)\n",
    "        nodes.append(0.7745966692414834)\n",
    "        weights.append(0.5555555555555556)\n",
    "        weights.append(0.8888888888888888)\n",
    "        weights.append(0.5555555555555556)\n",
    "    elif deg == 4:\n",
    "        nodes.append(-0.8611363115940526)\n",
    "        nodes.append(-0.3399810435848563)\n",
    "        nodes.append(0.3399810435848563)\n",
    "        nodes.append(0.8611363115940526)\n",
    "        weights.append(0.3478548451374539)\n",
    "        weights.append(0.6521451548625461)\n",
    "        weights.append(0.6521451548625461)\n",
    "        weights.append(0.3478548451374539)\n",
    "    elif deg == 5:\n",
    "        nodes.append(-0.906179845938664)\n",
    "        nodes.append(-0.5384693101056831)\n",
    "        nodes.append(0)\n",
    "        nodes.append(0.5384693101056831)\n",
    "        nodes.append(0.906179845938664)\n",
    "        weights.append(0.2369268850561891)\n",
    "        weights.append(0.4786286704993665)\n",
    "        weights.append(0.5688888888888889)\n",
    "        weights.append(0.4786286704993665)\n",
    "        weights.append(0.2369268850561891)\n",
    "    elif deg == 6:\n",
    "        nodes.append(-0.932469514203152)\n",
    "        nodes.append(-0.6612093864662645)\n",
    "        nodes.append(-0.2386191860831969)\n",
    "        nodes.append(0.2386191860831969)\n",
    "        nodes.append(0.6612093864662645)\n",
    "        nodes.append(0.932469514203152)\n",
    "        weights.append(0.1713244923791704)\n",
    "        weights.append(0.3607615730481386)\n",
    "        weights.append(0.467913934572691)\n",
    "        weights.append(0.467913934572691)\n",
    "        weights.append(0.3607615730481386)\n",
    "        weights.append(0.1713244923791704)\n",
    "    elif deg == 7:\n",
    "        nodes.append(-0.9491079123427585)\n",
    "        nodes.append(-0.7415311855993945)\n",
    "        nodes.append(-0.4058451513773972)\n",
    "        nodes.append(0)\n",
    "        nodes.append(0.4058451513773972)\n",
    "        nodes.append(0.7415311855993945)\n",
    "        nodes.append(0.9491079123427585)\n",
    "        weights.append(0.1294849661688697)\n",
    "        weights.append(0.2797053914892767)\n",
    "        weights.append(0.3818300505051189)\n",
    "        weights.append(0.4179591836734694)\n",
    "        weights.append(0.3818300505051189)\n",
    "        weights.append(0.2797053914892767)\n",
    "        weights.append(0.1294849661688697)\n",
    "    return nodes, weights"
   ]
  },
  {
   "cell_type": "code",
   "execution_count": 355,
   "metadata": {},
   "outputs": [],
   "source": [
    "def gauss_legendre_2D(nglx, ngly):\n",
    "    \"\"\"\n",
    "    Calculate the Gauss-Legendre nodes and weights for the given number of points\n",
    "    [nodes,weights] = gauss_legendre_2D(nglx,ngly)\n",
    "    nglx - number of gauss points in x direction\n",
    "    ngly - number of gauss points in y direction\n",
    "    nodes2 - vector of integration points\n",
    "    weights2 - vector of weight coefficients \n",
    "    \"\"\"\n",
    "   \n",
    "    \n",
    "    if nglx > ngly:\n",
    "        ngl = nglx\n",
    "    else:\n",
    "        ngl = ngly\n",
    "        \n",
    "    nodes2   = np.zeros((ngl,2))\n",
    "    weights2 = np.zeros((ngl,2))\n",
    "    \n",
    "    [nodesx, weightsx] = gauss_legendre_1D(nglx)\n",
    "    [nodesy, weightsy] = gauss_legendre_1D(ngly)\n",
    "    \n",
    "    for I in range(nglx):\n",
    "        nodes2[I,0]   = nodesx[I]\n",
    "        weights2[I,0] = weightsx[I]\n",
    "        \n",
    "    for J in range(ngly):\n",
    "        nodes2[J,1]   = nodesy[J]\n",
    "        weights2[J,1] = weightsy[J]\n",
    "        \n",
    "    \n",
    "    return nodes2, weights2"
   ]
  },
  {
   "cell_type": "markdown",
   "metadata": {},
   "source": [
    "### 1. Quadrilateral Elementary Matrix"
   ]
  },
  {
   "cell_type": "markdown",
   "metadata": {},
   "source": [
    "#### Shape functions and derivatives in reference to $\\xi, \\eta$, reference element"
   ]
  },
  {
   "cell_type": "code",
   "execution_count": 356,
   "metadata": {},
   "outputs": [],
   "source": [
    "def feisoq4(xi, eta): # Gauss points in xi, eta\n",
    "    \"\"\"\n",
    "    compute the shape functions and their derivatives, for Q4 elements\n",
    "    at integration point, in terms of natural coords (xi, eta)\n",
    "    \"\"\"\n",
    "    #node 1 (-1, -1)\n",
    "    #node 2 ( 1, -1)\n",
    "    #node 3 ( 1,  1)\n",
    "    #node 4 (-1,  1)\n",
    "    #shape functions\n",
    "    \n",
    "    #initialize\n",
    "    alpha     = np.zeros(4)\n",
    "    dalphdxi  = np.zeros(4)\n",
    "    dalphdeta = np.zeros(4)\n",
    "\n",
    "    nodes = [(-1, -1), (1, -1), (1, 1), (-1, 1)]\n",
    "\n",
    "    for i in range(4):\n",
    "        c_xi, c_eta = nodes[i]  # coefficients before xi and eta (reference element)\n",
    "    \n",
    "        alpha[i] = 0.25 * (1 + c_xi * xi) * (1 + c_eta * eta)\n",
    "\n",
    "    # derivatives, dxi\n",
    "        dalphdxi [i] = 0.25 * c_xi  * (1  + c_eta * eta)\n",
    "    # deta\n",
    "        dalphdeta[i] = 0.25 * c_eta * (1  + c_xi  * xi)\n",
    "\n",
    "    return alpha, dalphdxi, dalphdeta"
   ]
  },
  {
   "cell_type": "markdown",
   "metadata": {},
   "source": [
    "#### Jacobian calculation"
   ]
  },
  {
   "cell_type": "code",
   "execution_count": 357,
   "metadata": {},
   "outputs": [],
   "source": [
    "def fejacob2(nnel, dalphdxi, dalphdeta, xcoord, ycoord):\n",
    "    \"\"\"\n",
    "    Calculation for the jacobian matrix\n",
    "    nnel - number of nodes in the element\n",
    "    dalphdxi -- derivatives of shape function w.r.t xi\n",
    "    dalphdeta -- derivatives of shape function w.r.t eta \n",
    "    xcoord - x coordinate of the nodes\n",
    "    ycoord - y coordinate of the nodes\n",
    "    \"\"\"\n",
    "    #initialize\n",
    "    jacob2 = np.zeros((2, 2))\n",
    "#\n",
    "    for i in range(nnel):\n",
    "        jacob2[0,0] += dalphdxi[i]  * xcoord[i]\n",
    "        jacob2[0,1] += dalphdeta[i] * xcoord[i]\n",
    "        jacob2[1,0] += dalphdxi[i]  * ycoord[i]\n",
    "        jacob2[1,1] += dalphdeta[i] * ycoord[i]\n",
    "    \n",
    "    return jacob2"
   ]
  },
  {
   "cell_type": "markdown",
   "metadata": {},
   "source": [
    "#### Shape functions and derivatives in reference to $x, y$"
   ]
  },
  {
   "cell_type": "code",
   "execution_count": 358,
   "metadata": {},
   "outputs": [],
   "source": [
    "def federiv2(nnel,dalphdxi,dalphdeta,invjacobt):\n",
    "    \"\"\"\n",
    "    Calculation of the derivatives of the shape functions, with respect to x and y\n",
    "    nnel - number of nodes in the element\n",
    "    dalphdxi -- derivatives of shape function w.r.t xi\n",
    "    dalphdeta -- derivatives of shape function w.r.t eta \n",
    "    invjacobt -- inverse of the transposed of the jacobian matrix\n",
    "    \"\"\"\n",
    "\n",
    "    dxi_dx  = invjacobt[0, 0]\n",
    "    deta_dx = invjacobt[0, 1]\n",
    "    dxi_dy  = invjacobt[1, 0]\n",
    "    deta_dy = invjacobt[1, 1]\n",
    "    \n",
    "    #initialize\n",
    "    dalphdx = np.zeros(nnel)\n",
    "    dalphdy = np.zeros(nnel)\n",
    "    for i in range(nnel):\n",
    "        dalphdx[i] = dalphdxi[i] * dxi_dx + dalphdeta[i] * deta_dx\n",
    "        dalphdy[i] = dalphdxi[i] * dxi_dy + dalphdeta[i] * deta_dy\n",
    "\n",
    "    return dalphdx, dalphdy"
   ]
  },
  {
   "cell_type": "markdown",
   "metadata": {},
   "source": [
    "#### Calculation of a Quadrilateral elementary matrix (2D)"
   ]
  },
  {
   "cell_type": "code",
   "execution_count": 359,
   "metadata": {},
   "outputs": [],
   "source": [
    "def elem_2D(xcoord, ycoord) -> np.ndarray:\n",
    "    \"\"\"\n",
    "    Calculation for the elementary matrix of a quadrilateral element\n",
    "    Variables description:\n",
    "    k - element matrix\n",
    "    point2 - integration points\n",
    "    weight2 - weighting coeffs\n",
    "    nglx - number of integration points along x\n",
    "    ngly - number of integration points along y\n",
    "    xcoord - x coordinate of the nodes\n",
    "    ycoord - y coordinate of the nodes\n",
    "    jocob2 - Jacobian matrix\n",
    "    alpha - four-node quadrilateral shape functions\n",
    "    dalphdxi -- derivatives of shape function w.r.t xi\n",
    "    dalphdeta -- derivatives of shape function w.r.t eta\n",
    "    dalphdx -- derivatives of shape function w.r.t x\n",
    "    dalphdy -- derivatives of shape function w.r.t y\n",
    "    \"\"\"\n",
    "    nnel = 4           # number of nodes per element\n",
    "    ndof = 1           # degrees of freedom per node\n",
    "    edof = nnel * ndof # degrees of freedom per element\n",
    "\n",
    "    k = np.zeros((edof, edof))\n",
    "\n",
    "    ref_xi  = [-1/np.sqrt(3),  1/np.sqrt(3), 1/np.sqrt(3), -1/np.sqrt(3)]\n",
    "    ref_eta = [-1/np.sqrt(3), -1/np.sqrt(3), 1/np.sqrt(3),  1/np.sqrt(3)]\n",
    "\n",
    "    #sampling over all the integration points\n",
    "    for i in range(4):\n",
    "    #\n",
    "        al, daldxi, daldeta = feisoq4(ref_xi[i], ref_eta[i])\n",
    "    #\n",
    "        jacob2    = fejacob2(edof, daldxi, daldeta, xcoord, ycoord)\n",
    "        detjacob  = np.linalg.det(jacob2)\n",
    "        invjacob  = np.linalg.inv(jacob2)\n",
    "        invjacobt = np.transpose(invjacob)\n",
    "\n",
    "        daldx, daldy = federiv2(edof, daldxi, daldeta, invjacobt)\n",
    "\n",
    "        #calculation of the matrix\n",
    "        for i in range(edof):\n",
    "            for j in range(edof):\n",
    "                k[i, j] = (daldx[i] * daldx[j] + daldy[i] * daldy[j]) * detjacob\n",
    "                # =, not +=\n",
    "\n",
    "    return al, detjacob, k"
   ]
  },
  {
   "cell_type": "markdown",
   "metadata": {},
   "source": [
    "### 2. Linear Elementary Matrix"
   ]
  },
  {
   "cell_type": "markdown",
   "metadata": {},
   "source": [
    "#### 2.1. Shape functions and derivatives in reference to $\\xi$, reference element"
   ]
  },
  {
   "cell_type": "code",
   "execution_count": 360,
   "metadata": {},
   "outputs": [],
   "source": [
    "def feisoq2(xi): # Gauss points in xi, eta\n",
    "    \"\"\"\n",
    "    compute the shape functions and their derivatives, for Q4 elements\n",
    "    at integration point, in terms of natural coords (xi)\n",
    "    \"\"\"\n",
    "    #node 1 (-1)\n",
    "    #node 2 ( 1)\n",
    "    #shape functions\n",
    "    \n",
    "    #initialize\n",
    "    alpha     = np.zeros(2)\n",
    "    dalphdxi  = np.zeros(2)\n",
    "\n",
    "    nodes = [-1, 1]\n",
    "\n",
    "    for i in range(2):\n",
    "        c_xi = nodes[i]  # coefficients before xi and eta (reference element)\n",
    "    \n",
    "        alpha[i] = 0.5 * (1 + c_xi * xi)\n",
    "\n",
    "    # derivatives, dxi\n",
    "        dalphdxi[i] = 0.5 * c_xi\n",
    "\n",
    "\n",
    "    return alpha, dalphdxi"
   ]
  },
  {
   "cell_type": "markdown",
   "metadata": {},
   "source": [
    "#### 2.2. Jacobian calculation"
   ]
  },
  {
   "cell_type": "code",
   "execution_count": 361,
   "metadata": {},
   "outputs": [],
   "source": [
    "def fe_detjacob(nnel, dalphdxi, xcoord, ycoord):\n",
    "    \"\"\"\n",
    "    Calculation for the jacobian matrix\n",
    "    nnel - number of nodes in the element\n",
    "    dalphdxi -- derivatives of shape function w.r.t xi\n",
    "    xcoord, ycoord - coordinates of the nodes\n",
    "    \"\"\"\n",
    "    #initialize\n",
    "    jacob = 0\n",
    "\n",
    "    dxdxi = 0\n",
    "    dydxi = 0\n",
    "\n",
    "    for i in range(nnel):\n",
    "        dxdxi += dalphdxi[i] * xcoord[i]\n",
    "        dydxi += dalphdxi[i] * ycoord[i]\n",
    "        \n",
    "    jacob = np.sqrt(dxdxi * dxdxi + dydxi * dydxi)\n",
    "    \n",
    "    return jacob\n"
   ]
  },
  {
   "cell_type": "markdown",
   "metadata": {},
   "source": [
    "#### 2.3. Calculation of a Linear elementary matrix (1D)"
   ]
  },
  {
   "cell_type": "code",
   "execution_count": 363,
   "metadata": {},
   "outputs": [],
   "source": [
    "def elem_1D(xcoord, ycoord) -> np.ndarray:\n",
    "    \"\"\"\n",
    "    Calculation for the elementary matrix of a linear element\n",
    "    Variables description:\n",
    "    k - element matrix\n",
    "    point2 - integration points\n",
    "    weight2 - weighting coeffs\n",
    "    nglx - number of integration points along x\n",
    "    ngly - number of integration points along y\n",
    "    xcoord - x coordinate of the nodes\n",
    "    ycoord - y coordinate of the nodes\n",
    "    jocob2 - Jacobian matrix\n",
    "    alpha - four-node quadrilateral shape functions\n",
    "    dalphdxi -- derivatives of shape function w.r.t xi\n",
    "    dalphdeta -- derivatives of shape function w.r.t eta\n",
    "    dalphdx -- derivatives of shape function w.r.t x\n",
    "    dalphdy -- derivatives of shape function w.r.t y\n",
    "    \"\"\"\n",
    "    nnel = 2           # number of nodes per element\n",
    "    ndof = 1           # degrees of freedom per node\n",
    "    edof = nnel * ndof # degrees of freedom per element\n",
    "\n",
    "    nglx = 2       # 2 points in each direction for Gauss integration\n",
    "\n",
    "    [points, weights] = gauss_legendre_1D(nglx)\n",
    "\n",
    "    k = np.zeros((edof, edof))\n",
    "\n",
    "    #sampling over all the integration points\n",
    "    for intx in range(nglx):\n",
    "        x_c = points[intx]\n",
    "\n",
    "        al, daldxi = feisoq2(x_c)\n",
    "        \n",
    "        detjacob = fe_detjacob(edof, daldxi, xcoord, ycoord)\n",
    "\n",
    "        #calculation of the matrix\n",
    "        for i in range(edof):\n",
    "            for j in range(edof):\n",
    "                k[i,j] = (al[i] * al[j]) * detjacob\n",
    "\n",
    "    return al, detjacob, k"
   ]
  },
  {
   "cell_type": "markdown",
   "metadata": {},
   "source": [
    "### 3. Main Program Body"
   ]
  },
  {
   "cell_type": "markdown",
   "metadata": {},
   "source": [
    "#### 3.1. Constants"
   ]
  },
  {
   "cell_type": "code",
   "execution_count": 364,
   "metadata": {},
   "outputs": [],
   "source": [
    "r_length = 0.12\n",
    "z_length = 0.4\n",
    "dr = 0.02\n",
    "dz = 0.02\n",
    "\n",
    "assert(r_length / dr == int(r_length / dr)) ## checking for whole values, so that we don't have crucible and material in one element\n",
    "assert(z_length / dz == int(z_length / dz))\n",
    "assert(dz <= 0.02)\n",
    "assert(dr <= 0.02)"
   ]
  },
  {
   "cell_type": "code",
   "execution_count": 365,
   "metadata": {},
   "outputs": [],
   "source": [
    "h     = 20000\n",
    "Tr    = 300\n",
    "sigma = 5.67e-8\n",
    "Q     = 4000000\n",
    "\n",
    "radiative = False\n",
    "\n",
    "class Material:\n",
    "    def __init__(self, Tmelt, k, emissivity = None):\n",
    "        self.Tmelt  = Tmelt\n",
    "        self.k      = k                           # thermal conductivity\n",
    "        self.emiss  = emissivity"
   ]
  },
  {
   "cell_type": "code",
   "execution_count": 366,
   "metadata": {},
   "outputs": [],
   "source": [
    "iron      = Material(1811,  80.2, 0.35)\n",
    "titanium  = Material(1941,  15,   0.47)\n",
    "aluminium = Material(933.3, 238,  0.1)\n",
    "\n",
    "crucible  = Material(2323, 40)\n",
    "air       = Material(132,  0.024)"
   ]
  },
  {
   "cell_type": "code",
   "execution_count": 367,
   "metadata": {},
   "outputs": [],
   "source": [
    "selected = iron      # selection for material analysis"
   ]
  },
  {
   "cell_type": "markdown",
   "metadata": {},
   "source": [
    "#### 3.2. Mesh definition"
   ]
  },
  {
   "cell_type": "code",
   "execution_count": 368,
   "metadata": {},
   "outputs": [],
   "source": [
    "r_blocks = int(r_length / dr)\n",
    "z_blocks = int(z_length / dz)\n",
    "num_blocks = r_blocks * z_blocks\n",
    "\n",
    "m_size = (r_blocks + 1) * (z_blocks + 1)\n",
    "\n",
    "M = np.zeros((m_size, m_size))\n",
    "K = np.zeros(m_size)"
   ]
  },
  {
   "cell_type": "markdown",
   "metadata": {},
   "source": [
    "#### 3.3. Filling M, K for internal (quadrilateral) conductivity"
   ]
  },
  {
   "cell_type": "code",
   "execution_count": 369,
   "metadata": {},
   "outputs": [],
   "source": [
    "for block in range(num_blocks):\n",
    "\n",
    "    z_step = block // r_blocks\n",
    "    r_step = block %  r_blocks\n",
    "\n",
    "    # coordinates of bottom left point in a given mesh quadrilateral\n",
    "    r, z = r_step * dr, z_step * dz\n",
    "\n",
    "    rcoord   = np.round(np.array([r, r + dr, r + dr,      r]), decimals=2)\n",
    "    zcoord   = np.round(np.array([z,      z, z + dz, z + dz]), decimals=2)\n",
    "\n",
    "    node_num = np.array([r_step     + z_step       * (r_blocks + 1),\n",
    "                         r_step + 1 + z_step       * (r_blocks + 1),\n",
    "                         r_step + 1 + (z_step + 1) * (r_blocks + 1),\n",
    "                         r_step     + (z_step + 1) * (r_blocks + 1)])\n",
    "    \n",
    "    \n",
    "    if ((zcoord <= 0.02).all() or (rcoord >= 0.1).all()):\n",
    "        k = crucible.k\n",
    "        Q_in = 0\n",
    "    elif (zcoord <= 0.32).all():\n",
    "        k = selected.k \n",
    "        Q_in = Q\n",
    "        ## material\n",
    "    else: \n",
    "        k = air.k\n",
    "        Q_in = 0\n",
    "        # air\n",
    "\n",
    "\n",
    "    alpha, detjacob, elem_m = elem_2D(rcoord, zcoord)\n",
    "\n",
    "    for i in range(4):\n",
    "        ii = node_num[i]\n",
    "\n",
    "        for j in range(4):\n",
    "            jj = node_num[j]\n",
    "            M[ii][jj] += k * elem_m[i][j] \n",
    "\n",
    "        K[ii] += alpha[i] * Q_in * detjacob"
   ]
  },
  {
   "cell_type": "markdown",
   "metadata": {},
   "source": [
    "#### 3.4. Filling M, K for convective exchanges on boundaries"
   ]
  },
  {
   "cell_type": "markdown",
   "metadata": {},
   "source": [
    "Go around the outer edge of the crucible (gamma 1 cr -> gamma 4 cr), then across the surface of the material to the center (gamma 3 mat)"
   ]
  },
  {
   "cell_type": "code",
   "execution_count": 371,
   "metadata": {},
   "outputs": [],
   "source": [
    "## gamma cr 1\n",
    "\n",
    "coords = np.array([0., 0.])\n",
    "\n",
    "\n",
    "while (coords[0] < 0.12):\n",
    "    r1, r2 = coords[0], coords[0] + dr\n",
    "    z = coords[1]\n",
    "\n",
    "    alpha, detjacob, elem_m = elem_1D([r1, r2], [z, z])\n",
    "\n",
    "    node_num = int(coords[0] / dr + coords[1] / dz * (r_blocks + 1))\n",
    "\n",
    "    for i in range(2):\n",
    "        ii = node_num + i\n",
    "\n",
    "        for j in range(2):\n",
    "            jj = node_num + j\n",
    "\n",
    "            M[ii][jj] += h * elem_m[i][j]\n",
    "\n",
    "        K[ii] += h * Tr * alpha[i] * detjacob\n",
    "\n",
    "    coords[0] += dr\n",
    "    coords = np.round(coords, decimals=2)\n",
    "\n",
    "\n",
    "## gamma cr 2\n",
    "\n",
    "while (coords[1] < 0.4):\n",
    "    z1, z2 = coords[1], coords[1] + dz\n",
    "    r = coords[0]\n",
    "\n",
    "    alpha, detjacob, elem_m = elem_1D([r, r], [z1, z2])\n",
    "\n",
    "\n",
    "    node_num = int(coords[0] / dr + coords[1] / dz * (r_blocks + 1))\n",
    "\n",
    "    for i in range(2):\n",
    "        ii = node_num + (r_blocks + 1) * i\n",
    "\n",
    "        for j in range(2):\n",
    "            jj = node_num + (r_blocks + 1) * j\n",
    "\n",
    "            M[ii][jj] += h * elem_m[i][j]\n",
    "\n",
    "        K[ii] += h * Tr * alpha[i] * detjacob\n",
    "        \n",
    "    coords[1] += dz\n",
    "    coords = np.round(coords, decimals=2)\n",
    "\n",
    "## gamma cr 3\n",
    "\n",
    "while (coords[0] > 0.1):\n",
    "\n",
    "    coords[0] -= dr\n",
    "    coords = np.round(coords, decimals=2)\n",
    "\n",
    "    r1, r2 = coords[0], coords[0] + dr\n",
    "    z = coords[1]\n",
    "\n",
    "    alpha, detjacob, elem_m = elem_1D([r1, r2], [z, z])\n",
    "\n",
    "\n",
    "    node_num = int(coords[0] / dr + coords[1] / dz * (r_blocks + 1))\n",
    "\n",
    "    for i in range(2):\n",
    "        ii = node_num + i\n",
    "\n",
    "        for j in range(2):\n",
    "            jj = node_num + j\n",
    "\n",
    "            M[ii][jj] += h * elem_m[i][j]\n",
    "\n",
    "        K[ii] += h * Tr * alpha[i] * detjacob\n",
    "    \n",
    "\n",
    "#gamma cr 4 \n",
    "\n",
    "while (coords[1] > 0.32):\n",
    "\n",
    "    coords[1] -= dz\n",
    "    coords = np.round(coords, decimals=2)\n",
    "\n",
    "    z1, z2 = coords[1], coords[1] + dz\n",
    "    r = coords[0]\n",
    "\n",
    "    alpha, detjacob, elem_m = elem_1D([r, r], [z1, z2])\n",
    "\n",
    "\n",
    "    node_num = int(coords[0] / dr + coords[1] / dz * (r_blocks + 1))\n",
    "\n",
    "    for i in range(2):\n",
    "        ii = node_num + (r_blocks + 1) * i\n",
    "\n",
    "        for j in range(2):\n",
    "            jj = node_num + (r_blocks + 1) * j\n",
    "\n",
    "            M[ii][jj] += h * elem_m[i][j]\n",
    "\n",
    "        K[ii] += h * Tr * alpha[i] * detjacob\n",
    "\n",
    "# gamma mat 30\n",
    "\n",
    "while (coords[0] > 0):\n",
    "\n",
    "    coords[0] -= dr\n",
    "    coords = np.round(coords, decimals=2)\n",
    "    \n",
    "    r1, r2 = coords[0], coords[0] + dr\n",
    "    z = coords[1]\n",
    "\n",
    "    alpha, detjacob, elem_m = elem_1D([r1, r2], [z, z])\n",
    "\n",
    "    node_num = int(coords[0] / dr + coords[1] / dz * (r_blocks + 1))\n",
    "\n",
    "    for i in range(2):\n",
    "        ii = node_num + i\n",
    "\n",
    "        for j in range(2):\n",
    "            jj = node_num + j\n",
    "            \n",
    "            M[ii][jj] += h * elem_m[i][j]\n",
    "\n",
    "        K[ii] += h * Tr * alpha[i] * detjacob"
   ]
  },
  {
   "cell_type": "markdown",
   "metadata": {},
   "source": [
    "#### 3.5 Filling M for radiative exchange on material surface"
   ]
  },
  {
   "cell_type": "code",
   "execution_count": 372,
   "metadata": {},
   "outputs": [],
   "source": [
    "Tp = None\n",
    "\n",
    "if radiative:\n",
    "    constant = selected.emiss * sigma\n",
    "\n",
    "    coords = np.array([0., 0.32])\n",
    "\n",
    "    while (coords[0] < 0.1):\n",
    "        r1, r2 = coords[0], coords[0] + dr\n",
    "        elem_m = elem_1D([r1, r2])\n",
    "\n",
    "        node_num = int(coords[0] / dr + coords[1] / dz * r_blocks)\n",
    "\n",
    "        for i in range(2):\n",
    "            for j in range(2):\n",
    "                M[node_num + i][node_num + j] += constant * (Tp**3) * elem_m[i][j]\n",
    "            K[node_num + i] += constant * (Tr**4) * elem_m[i][j]\n",
    "\n",
    "        coords[0] += dr\n",
    "        assert(False)"
   ]
  },
  {
   "cell_type": "markdown",
   "metadata": {},
   "source": [
    "### 4. Solving the system"
   ]
  },
  {
   "cell_type": "code",
   "execution_count": 374,
   "metadata": {},
   "outputs": [
    {
     "name": "stderr",
     "output_type": "stream",
     "text": [
      "C:\\Users\\user\\AppData\\Local\\Temp\\ipykernel_23444\\380662226.py:1: SparseEfficiencyWarning: spsolve requires A be CSC or CSR matrix format\n",
      "  T = spsolve(M, K)\n"
     ]
    }
   ],
   "source": [
    "T = spsolve(M, K)"
   ]
  },
  {
   "cell_type": "code",
   "execution_count": 376,
   "metadata": {},
   "outputs": [
    {
     "data": {
      "text/plain": [
       "9.462763849226048e+182"
      ]
     },
     "execution_count": 376,
     "metadata": {},
     "output_type": "execute_result"
    }
   ],
   "source": [
    "np.linalg.det(M)"
   ]
  },
  {
   "cell_type": "code",
   "execution_count": 377,
   "metadata": {},
   "outputs": [
    {
     "data": {
      "text/plain": [
       "array([1.26794919e+04, 6.00000000e+04, 6.00000000e+04, 6.00000000e+04,\n",
       "       6.00000000e+04, 6.00000000e+04, 6.00000000e+04, 6.66666667e+01,\n",
       "       8.45299462e+01, 8.45299462e+01, 8.45299462e+01, 8.45299462e+01,\n",
       "       1.78632795e+01, 6.00000000e+04, 3.15470054e+02, 4.00000000e+02,\n",
       "       4.00000000e+02, 4.00000000e+02, 4.00000000e+02, 8.45299462e+01,\n",
       "       6.00000000e+04, 3.15470054e+02, 4.00000000e+02, 4.00000000e+02,\n",
       "       4.00000000e+02, 4.00000000e+02, 8.45299462e+01, 6.00000000e+04,\n",
       "       3.15470054e+02, 4.00000000e+02, 4.00000000e+02, 4.00000000e+02,\n",
       "       4.00000000e+02, 8.45299462e+01, 6.00000000e+04, 3.15470054e+02,\n",
       "       4.00000000e+02, 4.00000000e+02, 4.00000000e+02, 4.00000000e+02,\n",
       "       8.45299462e+01, 6.00000000e+04, 3.15470054e+02, 4.00000000e+02,\n",
       "       4.00000000e+02, 4.00000000e+02, 4.00000000e+02, 8.45299462e+01,\n",
       "       6.00000000e+04, 3.15470054e+02, 4.00000000e+02, 4.00000000e+02,\n",
       "       4.00000000e+02, 4.00000000e+02, 8.45299462e+01, 6.00000000e+04,\n",
       "       3.15470054e+02, 4.00000000e+02, 4.00000000e+02, 4.00000000e+02,\n",
       "       4.00000000e+02, 8.45299462e+01, 6.00000000e+04, 3.15470054e+02,\n",
       "       4.00000000e+02, 4.00000000e+02, 4.00000000e+02, 4.00000000e+02,\n",
       "       8.45299462e+01, 6.00000000e+04, 3.15470054e+02, 4.00000000e+02,\n",
       "       4.00000000e+02, 4.00000000e+02, 4.00000000e+02, 8.45299462e+01,\n",
       "       6.00000000e+04, 3.15470054e+02, 4.00000000e+02, 4.00000000e+02,\n",
       "       4.00000000e+02, 4.00000000e+02, 8.45299462e+01, 6.00000000e+04,\n",
       "       3.15470054e+02, 4.00000000e+02, 4.00000000e+02, 4.00000000e+02,\n",
       "       4.00000000e+02, 8.45299462e+01, 6.00000000e+04, 3.15470054e+02,\n",
       "       4.00000000e+02, 4.00000000e+02, 4.00000000e+02, 4.00000000e+02,\n",
       "       8.45299462e+01, 6.00000000e+04, 3.15470054e+02, 4.00000000e+02,\n",
       "       4.00000000e+02, 4.00000000e+02, 4.00000000e+02, 8.45299462e+01,\n",
       "       6.00000000e+04, 3.15470054e+02, 4.00000000e+02, 4.00000000e+02,\n",
       "       4.00000000e+02, 4.00000000e+02, 8.45299462e+01, 6.00000000e+04,\n",
       "       1.29282953e+04, 6.03154701e+04, 6.03154701e+04, 6.03154701e+04,\n",
       "       6.03154701e+04, 6.00666667e+04, 6.00000000e+04, 0.00000000e+00,\n",
       "       0.00000000e+00, 0.00000000e+00, 0.00000000e+00, 0.00000000e+00,\n",
       "       6.00000000e+04, 6.00000000e+04, 0.00000000e+00, 0.00000000e+00,\n",
       "       0.00000000e+00, 0.00000000e+00, 0.00000000e+00, 6.00000000e+04,\n",
       "       6.00000000e+04, 0.00000000e+00, 0.00000000e+00, 0.00000000e+00,\n",
       "       0.00000000e+00, 0.00000000e+00, 6.00000000e+04, 6.00000000e+04,\n",
       "       0.00000000e+00, 0.00000000e+00, 0.00000000e+00, 0.00000000e+00,\n",
       "       0.00000000e+00, 6.00000000e+04, 9.46410162e+04])"
      ]
     },
     "execution_count": 377,
     "metadata": {},
     "output_type": "execute_result"
    }
   ],
   "source": [
    "K"
   ]
  },
  {
   "cell_type": "code",
   "execution_count": 378,
   "metadata": {},
   "outputs": [
    {
     "data": {
      "text/plain": [
       "array([441.13786329, 271.88086141, 315.1966263 , 302.60590678,\n",
       "       304.47717959, 301.99802147, 300.0522346 , 461.88988959,\n",
       "       447.8240847 , 422.31499494, 407.72033963, 384.05017248,\n",
       "       345.19512447, 302.15899558, 509.61207429, 500.06598046,\n",
       "       481.98957518, 456.96080428, 424.48962048, 384.07139655,\n",
       "       303.80731866, 550.97055637, 542.4366353 , 523.63965928,\n",
       "       495.10372877, 456.52796941, 406.43705415, 305.05457188,\n",
       "       583.78678662, 574.87548457, 554.70259157, 523.13210002,\n",
       "       479.53713589, 422.64154111, 305.79169355, 608.01670707,\n",
       "       598.57485546, 577.02571079, 542.98218431, 495.68744605,\n",
       "       433.93468921, 306.34905403, 624.22646419, 614.35302623,\n",
       "       591.76169861, 555.97337152, 506.18704599, 441.26112631,\n",
       "       306.6987122 , 632.92650064, 622.80747827, 599.6344207 ,\n",
       "       562.8921675 , 511.76592414, 445.14908485, 306.88688433,\n",
       "       634.41401841, 624.26897933, 601.02434398, 564.14392613,\n",
       "       512.79623484, 445.87406192, 306.9217248 , 628.71539007,\n",
       "       618.77955396, 595.99975458, 559.81809731, 509.37009188,\n",
       "       443.50615095, 306.8080643 , 615.56132134, 606.07945606,\n",
       "       584.32279383, 549.71051201, 501.32674714, 437.9346307 ,\n",
       "       306.54070869, 594.37510005, 585.59457666, 565.43678389,\n",
       "       533.3132421 , 488.24621124, 428.86466686, 306.10364494,\n",
       "       564.27673834, 556.4229758 , 538.43106989, 509.76927071,\n",
       "       469.41217405, 415.78807231, 305.47921319, 524.13531199,\n",
       "       517.32924217, 501.95460939, 477.77748436, 443.73221666,\n",
       "       397.95585411, 304.60571415, 472.84088571, 466.6864974 ,\n",
       "       454.03547473, 435.33448599, 409.70019944, 374.26981821,\n",
       "       303.52516886, 410.1354335 , 402.89216706, 390.31848064,\n",
       "       380.14045676, 365.16659186, 343.37431348, 301.81895925,\n",
       "       354.09615773, 304.51896783, 310.65506486, 308.43435639,\n",
       "       307.62862608, 302.60010447, 300.65778047, 323.27035583,\n",
       "       318.05423209, 310.22878318, 307.9009774 , 304.62428911,\n",
       "       299.50366115, 299.88613473, 316.54987548, 314.30938597,\n",
       "       310.80526579, 307.15201513, 303.67941866, 300.09515358,\n",
       "       300.01863795, 313.51433144, 312.25229178, 309.79995221,\n",
       "       306.74448855, 303.43294611, 299.98181825, 299.99741226,\n",
       "       312.39099404, 311.36919373, 309.27933553, 306.48764123,\n",
       "       303.31933373, 300.00369976, 299.99969597])"
      ]
     },
     "execution_count": 378,
     "metadata": {},
     "output_type": "execute_result"
    }
   ],
   "source": [
    "T"
   ]
  },
  {
   "cell_type": "code",
   "execution_count": 379,
   "metadata": {},
   "outputs": [],
   "source": [
    "import pandas as pd\n"
   ]
  },
  {
   "cell_type": "code",
   "execution_count": 408,
   "metadata": {},
   "outputs": [
    {
     "data": {
      "image/png": "[encoded data removed]",
      "text/plain": [
       "<Figure size 640x480 with 2 Axes>"
      ]
     },
     "metadata": {},
     "output_type": "display_data"
    }
   ],
   "source": [
    "import numpy as np\n",
    "import matplotlib.pyplot as plt\n",
    "import matplotlib.tri as tri\n",
    "\n",
    "# converts quad elements into tri elements\n",
    "def quads_to_tris(quads):\n",
    "    tris = [[None for j in range(3)] for i in range(2*len(quads))]\n",
    "    for i in range(len(quads)):\n",
    "        j = 2*i\n",
    "        n0 = quads[i][0]\n",
    "        n1 = quads[i][1]\n",
    "        n2 = quads[i][2]\n",
    "        n3 = quads[i][3]\n",
    "        tris[j][0] = n0\n",
    "        tris[j][1] = n1\n",
    "        tris[j][2] = n2\n",
    "        tris[j + 1][0] = n2\n",
    "        tris[j + 1][1] = n3\n",
    "        tris[j + 1][2] = n0\n",
    "    return tris\n",
    "\n",
    "# plots a finite element mesh\n",
    "def plot_fem_mesh(nodes_x, nodes_y, elements):\n",
    "    for element in elements:\n",
    "        x = [nodes_x[element[i]] for i in range(len(element))]\n",
    "        y = [nodes_y[element[i]] for i in range(len(element))]\n",
    "        plt.fill(x, y, edgecolor='black', fill=False)\n",
    "\n",
    "# FEM data=====================\n",
    "#nodes_x = [0.0, 1.0, 2.0, 0.0, 1.0, 2.0, 3.0, 0.0, 1.0, 2.0, 3.0]\n",
    "#nodes_y = [0.0, 0.0, 0.0, 1.0, 1.0, 1.0, 1.0, 2.0, 2.0, 2.0, 2.0]\n",
    "\n",
    "nodex   = np.linspace(0, r_blocks, r_blocks + 1)\n",
    "nodes_x = np.tile(nodex, z_blocks + 1)\n",
    "\n",
    "nodey   = np.linspace(0, z_blocks, z_blocks + 1).reshape(-1, 1)\n",
    "nodes_y = np.tile(nodey, r_blocks + 1).ravel()\n",
    "\n",
    "nodal_values = T\n",
    "\n",
    "#nodal values of the field we want to plot\n",
    "#nodal_values = [1.0, 0.9, 1.1, 0.9, 2.1, 2.1, 0.9, 1.0, 1.0, 0.9, 0.8]\n",
    "#table of connectivity of elements\n",
    "#triangular elements\n",
    "# elements_tris = [[2, 6, 5], [5, 6, 10], [10, 9, 5]]\n",
    "#square elements\n",
    "\n",
    "elements_quads = np.array([[r_step + z_step * (r_blocks + 1),\n",
    "                            r_step + 1 + z_step * (r_blocks + 1),\n",
    "                            r_step + 1 + (z_step + 1) * (r_blocks + 1),\n",
    "                            r_step + (z_step + 1) * (r_blocks + 1)] \n",
    "                \n",
    "                            for z_step in range(0, z_blocks) \n",
    "                            for r_step in range(0, r_blocks)])\n",
    "\n",
    "\n",
    "# elements_quads = [[0, 1, 4, 3], [1, 2, 5, 4], [3, 4, 8, 7], [4, 5, 9, 8]]\n",
    "#========================================================================\n",
    "\n",
    "elements = elements_quads\n",
    "\n",
    "\n",
    "# convert all elements into triangles\n",
    "#elements_all_tris = elements_tris + quads_to_tris(elements_quads)\n",
    "\n",
    "elements_all_tris = quads_to_tris(elements_quads)\n",
    "\n",
    "# create an unstructured triangular grid instance\n",
    "triangulation = tri.Triangulation(nodes_x, nodes_y, elements_all_tris)\n",
    "\n",
    "\n",
    "# plot the finite element mesh\n",
    "plot_fem_mesh(nodes_x, nodes_y, elements)\n",
    "\n",
    "# plot the contours\n",
    "plt.tricontourf(triangulation, nodal_values)\n",
    "\n",
    "# show\n",
    "plt.colorbar()\n",
    "plt.axis('equal')\n",
    "\n",
    "locs, labels = plt.xticks()\n",
    "plt.xticks(locs, np.linspace(0, 12, 7, dtype=int))\n",
    "\n",
    "locs, labels = plt.yticks()\n",
    "plt.yticks(locs, np.linspace(0, 40, 9, dtype=int))\n",
    "\n",
    "plt.xlabel(\"r, cm\")\n",
    "plt.xlabel(\"z, cm\")\n",
    "\n",
    "plt.show()"
   ]
  },
  {
   "cell_type": "code",
   "execution_count": null,
   "metadata": {},
   "outputs": [],
   "source": []
  }
 ],
 "metadata": {
  "kernelspec": {
   "display_name": "eproj",
   "language": "python",
   "name": "python3"
  },
  "language_info": {
   "codemirror_mode": {
    "name": "ipython",
    "version": 3
   },
   "file_extension": ".py",
   "mimetype": "text/x-python",
   "name": "python",
   "nbconvert_exporter": "python",
   "pygments_lexer": "ipython3",
   "version": "3.12.7"
  }
 },
 "nbformat": 4,
 "nbformat_minor": 2
}
